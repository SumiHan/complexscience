{
 "cells": [
  {
   "cell_type": "markdown",
   "metadata": {},
   "source": [
    "# Chapter 5\n",
    "## 5.1 행렬이란 무엇인가?\n",
    "### 5.1.1 전통적인 행렬\n",
    "\n",
    "\n",
    "$$\n",
    "\\begin{bmatrix}\n",
    "1 & 2 & 3 \\\\\n",
    "10 & 20 & 30 \\\\\n",
    "\\end{bmatrix}\n",
    "$$\n",
    "    \n",
    "    - 행렬을 행-리스트(row-list)들로 구성된 리스트로 표현하면,  [[1,2,3],[10,20,30]]\n",
    "    - 행렬을 열-리스트(column-list)로 구성된 리스트로 표현하면, [[1,10], [2,20],[3,30]]"
   ]
  },
  {
   "cell_type": "code",
   "execution_count": 5,
   "metadata": {
    "collapsed": true
   },
   "outputs": [],
   "source": [
    "%matplotlib inline "
   ]
  },
  {
   "cell_type": "code",
   "execution_count": 6,
   "metadata": {
    "collapsed": false
   },
   "outputs": [],
   "source": [
    "import matplotlib\n",
    "import numpy as np\n",
    "import matplotlib.pyplot as plt"
   ]
  },
  {
   "cell_type": "code",
   "execution_count": 7,
   "metadata": {
    "collapsed": true
   },
   "outputs": [],
   "source": [
    "class Vec :\n",
    "    def __init__(self, labels, function):\n",
    "        self.D = labels\n",
    "        self.f = function"
   ]
  },
  {
   "cell_type": "code",
   "execution_count": 8,
   "metadata": {
    "collapsed": false
   },
   "outputs": [],
   "source": [
    "class Vec:\n",
    "    def __init__(self, labels, function):\n",
    "        self.D = labels\n",
    "        self.f = function\n",
    "        \n",
    "    def getitem(v,d):\n",
    "        return v.f[d] if d in v.f else 0\n",
    "    \n",
    "    def scalar_mul(v, alpha):\n",
    "        return Vec(v.D, {d:alpha*value for d, value in v.f.items()})\n",
    "\n",
    "    def vec_add(D, vec_list):\n",
    "        return Vec(D, {d:sum(Vec.getitem(v,d) for v in vec_list) for d in D})"
   ]
  },
  {
   "cell_type": "markdown",
   "metadata": {},
   "source": [
    "** Quiz 5.1.1 ** 값이 행-리스트들로 구성된 리스트인 중첩된 컴프리핸션을 작성해 보자.\n",
    "\n",
    "$$\n",
    "\\begin{bmatrix}\n",
    "0 & 0 & 0 & 0 \\\\\n",
    "0 & 0 & 0 & 0 \\\\\n",
    "0 & 0 & 0 & 0 \\\\\n",
    "\\end{bmatrix}\n",
    "$$"
   ]
  },
  {
   "cell_type": "code",
   "execution_count": 4,
   "metadata": {
    "collapsed": false
   },
   "outputs": [
    {
     "data": {
      "text/plain": [
       "[[0, 0, 0, 0], [0, 0, 0, 0], [0, 0, 0, 0]]"
      ]
     },
     "execution_count": 4,
     "metadata": {},
     "output_type": "execute_result"
    }
   ],
   "source": [
    "[[0 for j in range(4)] for i in range(3)]"
   ]
  },
  {
   "cell_type": "markdown",
   "metadata": {},
   "source": [
    "** Quiz 5.1.2 ** 값이 열-리스트들로 구성된 리스트인 중첩된 컴프리핸션을 작성해 보자.\n",
    "\n",
    "    3 X 4 행렬 , 이 행렬의 i,j원소는 i-j이다.\n",
    "    \n",
    "$$\n",
    "\\begin{bmatrix}\n",
    "0 & -1 & -2 & -3 \\\\\n",
    "1 & 0 & -1 & -2 \\\\\n",
    "2 & 1 & 0 & -1 \\\\\n",
    "\\end{bmatrix}\n",
    "$$\n",
    "    \n",
    "\n"
   ]
  },
  {
   "cell_type": "code",
   "execution_count": 5,
   "metadata": {
    "collapsed": false
   },
   "outputs": [
    {
     "data": {
      "text/plain": [
       "[[0, 1, 2], [-1, 0, 1], [-2, -1, 0], [-3, -2, -1]]"
      ]
     },
     "execution_count": 5,
     "metadata": {},
     "output_type": "execute_result"
    }
   ],
   "source": [
    "[[i-j for i in range(3)] for j in range(4)]"
   ]
  },
  {
   "cell_type": "markdown",
   "metadata": {},
   "source": [
    "### 5.1.2 행렬에 대해 알아보기\n",
    "\n",
    "\n",
    "** Example 5.1.3 ** 행의 원소들 row label = {'a', 'b'}, 열의 요소들 column label = {'#','@','?'}\n",
    "\n",
    "$$\n",
    "\\begin{array}{c|lcr}\n",
    " & \\text{@} & \\text{#} & \\text{?} \\\\\n",
    "\\hline\n",
    "a & 1 & 2 & 3 \\\\\n",
    "b & 10 & 20 & 30 \\\\\n",
    "\\end{array}\n",
    "$$\n",
    "\n",
    "    \n",
    "    파이썬의 딕셔너리 표현법으로 나타내면,\n",
    "    {('a','@'):1, ('a','#'):2, ('a','?'):3, ('b','@'):10, ('b','#'):20, ('b','?'):30}\n",
    "\n",
    "\n",
    "### 5.1.3 행, 열, 엔트리\n",
    "\n",
    "    행렬이 유용한 이유는 행과 열을 벡터로 해석할 수 있기 때문이다.\n",
    "    \n",
    "    Example 5.1.3의 해석\n",
    "    - 행 'a'는 벡터 Vec({'@', '#', '?'}, {'@':1, '#':2, '?':3})이다.\n",
    "    - 행 'b'는 벡터 Vec({'@', '#', '?'}, {'@':10, '#':20, '?':30})이다.\n",
    "    - 열 '@'는 벡터 Vec({'a', 'b'}, {'a':1, 'b':10})이다.\n",
    "    - 열 '#'는 벡터 Vec({'a', 'b'}, {'a':2, 'b':20})이다.\n",
    "\n",
    "\n",
    "** Quiz 5.1.4 : ** Vec을 사용하여 열 '?'에 대한 파이썬 표현식을 작성해 보자."
   ]
  },
  {
   "cell_type": "code",
   "execution_count": 3,
   "metadata": {
    "collapsed": false
   },
   "outputs": [
    {
     "ename": "SyntaxError",
     "evalue": "invalid syntax (<ipython-input-3-effa23cec14a>, line 1)",
     "output_type": "error",
     "traceback": [
      "\u001b[1;36m  File \u001b[1;32m\"<ipython-input-3-effa23cec14a>\"\u001b[1;36m, line \u001b[1;32m1\u001b[0m\n\u001b[1;33m    Vec({'a', 'b'}, {'a':3, 'b':30}.)\u001b[0m\n\u001b[1;37m                                    ^\u001b[0m\n\u001b[1;31mSyntaxError\u001b[0m\u001b[1;31m:\u001b[0m invalid syntax\n"
     ]
    }
   ],
   "source": [
    "Vec({'a', 'b'}, {'a':3, 'b':30}.)"
   ]
  },
  {
   "cell_type": "markdown",
   "metadata": {},
   "source": [
    "- 행들로 구성된 딕셔너리 표현 ( rowdict )\n",
    "\n",
    "    {'a' : Vec ({'@', '#', '?'}, {'@':1, '#':2, '?':3}),\n",
    "\n",
    "    'b' : Vec ({'@', '#', '?'}, {'@':10, '#':20, '?':30})}\n",
    "\n",
    "\n",
    "\n",
    "- 열들로 구성된 딕셔너리 표현 ( coldict )\n",
    "    \n",
    "    {'#' : Vec ({'a', 'b'}, {'a':2, 'b':20}),\n",
    "    \n",
    "     '@' : Vec ({'a', 'b'}, {'a':1, 'b':10}),\n",
    "     \n",
    "     '?' : Vec ({'a', 'b'}, {'a':3, 'b':30}), }\n",
    "\n",
    "** Quiz 5.1.5 :** Example 5.1.3의 행렬에 대한 coldict표현인 파이썬 표현식을 작성해 보자."
   ]
  },
  {
   "cell_type": "code",
   "execution_count": 9,
   "metadata": {
    "collapsed": false
   },
   "outputs": [
    {
     "data": {
      "text/plain": [
       "{'#': {'a', 'b'}, '?': {'a', 'b'}, '@': {'a', 'b'}}"
      ]
     },
     "execution_count": 9,
     "metadata": {},
     "output_type": "execute_result"
    }
   ],
   "source": [
    "{'#': Vec({'a', 'b'}, {'a':2, 'b':20}).D,\n",
    "'@': Vec({'a', 'b'}, {'a':1, 'b':10}).D,\n",
    "'?': Vec({'a', 'b'}, {'a':3, 'b':30}).D}"
   ]
  },
  {
   "cell_type": "markdown",
   "metadata": {},
   "source": [
    "### 5.1.4 행렬의 파이썬 구현\n",
    "\n",
    "벡터 클래스 Vec와 유사한 Mat로 행렬 정의하는 것이 편리하다.\n",
    "\n",
    "클래스 Mat의 인스턴스는 다음과 같다.\n",
    "\n",
    "- 집합들의 쌍(R,C)에 바인딩될 D (D가 하나의 집합인 Vec와는 다름)\n",
    "- 쌍 (r,c) ∈ R * C을 필드 원소에 매핑하는 함수를 나타내는 딕셔너리에 바인딩 될 f\n",
    "\n",
    "\n",
    "행렬의 sparsity표현\n",
    "- 행렬의 엔트리 중 값이 0인 것은 딕셔너리에 표현할 필요가 없다. (벡터보다 행렬이 훨씬 크기 때문에 중요)"
   ]
  },
  {
   "cell_type": "markdown",
   "metadata": {},
   "source": [
    "\n",
    "클래스 Mat를 정의하는데 필요한 파이썬 코드는 다음과 같다.\n"
   ]
  },
  {
   "cell_type": "code",
   "execution_count": 10,
   "metadata": {
    "collapsed": true
   },
   "outputs": [],
   "source": [
    "class Mat :\n",
    "    def __init__(self, labels, function):\n",
    "        self.D = labels\n",
    "        self.f = function"
   ]
  },
  {
   "cell_type": "code",
   "execution_count": 11,
   "metadata": {
    "collapsed": true
   },
   "outputs": [],
   "source": [
    "M = Mat(({'a', 'b'}, {'@', '#', '?'}), {('a', '@'):1, ('a', '#'):2, ('a', '?'):3, ('b', '@'):10, ('b', '#'):20, ('b', '?'):30})"
   ]
  },
  {
   "cell_type": "code",
   "execution_count": 12,
   "metadata": {
    "collapsed": false
   },
   "outputs": [
    {
     "name": "stdout",
     "output_type": "stream",
     "text": [
      "<__main__.Mat instance at 0x000000000A541D08>\n"
     ]
    }
   ],
   "source": [
    "print(M)"
   ]
  },
  {
   "cell_type": "markdown",
   "metadata": {},
   "source": [
    "### 5.1.5 단위행렬\n",
    "\n",
    "** Definition 5.1.6 ** 유한집합 D에 대해, D X D 단위행렬은 행-라벨 집합과 열-라벨 집합이 둘다 D이고 모든 d ∈ D 에 대해 엔트리 (d,d)는 1 (모든 다른 엔트리는 0)인 핼렬이다.\n",
    "\n",
    "$$\n",
    "\\begin{array}{c|lcr}\n",
    " & \\text{a} & \\text{b} & \\text{c} \\\\\n",
    "\\hline\n",
    "a & 1 & 0 & 0 \\\\\n",
    "b & 0 & 1 & 0 \\\\\n",
    "b & 0 & 0 & 1 \\\\\n",
    "\\end{array}\n",
    "$$\n",
    "\n",
    "** Quiz 5.1.7 : ** Mat의 인스턴스로 표현되는 {'a', 'b', 'c'} X {'a', 'b', 'c'}단위행렬에 대한 표현식을 작성해 보자."
   ]
  },
  {
   "cell_type": "code",
   "execution_count": 103,
   "metadata": {
    "collapsed": false
   },
   "outputs": [
    {
     "data": {
      "text/plain": [
       "<__main__.Mat instance at 0x0000000009E4E588>"
      ]
     },
     "execution_count": 103,
     "metadata": {},
     "output_type": "execute_result"
    }
   ],
   "source": [
    "Mat(({'a', 'b', 'c'}, {'a', 'b', 'c'}), {('a', 'a'):1, ('b', 'b'):1, ('c', 'c'):1})"
   ]
  },
  {
   "cell_type": "markdown",
   "metadata": {},
   "source": [
    "** Quiz 5.1.8 : **한 줄로 된 프로시저, identity(D)를 작성해 보자.\n",
    "    이 프로시져는 주어진 유한한 집합 D에 대해 Mat의 인스턴스로 표현된 D * D 단위행렬을 리턴한다."
   ]
  },
  {
   "cell_type": "code",
   "execution_count": 104,
   "metadata": {
    "collapsed": true
   },
   "outputs": [],
   "source": [
    "def identity(D) : return Mat(D, D), {(d,d):1 for d in D}"
   ]
  },
  {
   "cell_type": "markdown",
   "metadata": {},
   "source": [
    "### 5.1.6 행렬 표현의 변환\n",
    "\n",
    "** Quiz 5.1.9 : **한 줄로 된 프로시져, mat2rowdict(A)를 작성해 보자. 이 프로시져는 Mat의 인스턴스에 대해 동일한 행렬의 rowdict 표현을 리턴한다. (matrix 를 rowdict로 변환)"
   ]
  },
  {
   "cell_type": "code",
   "execution_count": 77,
   "metadata": {
    "collapsed": true
   },
   "outputs": [],
   "source": [
    "def mat2rowdict(A) :\n",
    "    return {r:Vec(A.D[1], {c:A[r,c] for c in A.D[1] for r in A.D[0]})}"
   ]
  },
  {
   "cell_type": "markdown",
   "metadata": {},
   "source": [
    "** Quiz 5.1.10 : ** 한 줄로 된 프로시져, mat2coldict(A)를 작성해 보자. 이 프로시져는 Mat의 인스턴스에 대해 동일한 행렬의 coldict 표현을 리턴한다. (matrix 를 coldict로 변환)"
   ]
  },
  {
   "cell_type": "code",
   "execution_count": 46,
   "metadata": {
    "collapsed": true
   },
   "outputs": [],
   "source": [
    "def mat2coldict(A) :\n",
    "    return {c:Vec(A, D[0], {r:A[r,c] for r in A.D[0] for c in A.D[1]})}"
   ]
  },
  {
   "cell_type": "markdown",
   "metadata": {},
   "source": [
    "### 5.1.7 matutil.py"
   ]
  },
  {
   "cell_type": "code",
   "execution_count": 105,
   "metadata": {
    "collapsed": false
   },
   "outputs": [
    {
     "ename": "NameError",
     "evalue": "name 'listlist2mat' is not defined",
     "output_type": "error",
     "traceback": [
      "\u001b[1;31m---------------------------------------------------------------------------\u001b[0m",
      "\u001b[1;31mNameError\u001b[0m                                 Traceback (most recent call last)",
      "\u001b[1;32m<ipython-input-105-fb5a1fa8fb3d>\u001b[0m in \u001b[0;36m<module>\u001b[1;34m()\u001b[0m\n\u001b[1;32m----> 1\u001b[1;33m \u001b[0mA\u001b[0m \u001b[1;33m=\u001b[0m \u001b[0mlistlist2mat\u001b[0m\u001b[1;33m(\u001b[0m\u001b[1;33m[\u001b[0m\u001b[1;33m[\u001b[0m\u001b[1;36m10\u001b[0m\u001b[1;33m,\u001b[0m \u001b[1;36m20\u001b[0m\u001b[1;33m,\u001b[0m \u001b[1;36m30\u001b[0m\u001b[1;33m,\u001b[0m \u001b[1;36m40\u001b[0m\u001b[1;33m]\u001b[0m\u001b[1;33m,\u001b[0m \u001b[1;33m[\u001b[0m\u001b[1;36m50\u001b[0m\u001b[1;33m,\u001b[0m \u001b[1;36m60\u001b[0m\u001b[1;33m,\u001b[0m \u001b[1;36m70\u001b[0m\u001b[1;33m,\u001b[0m \u001b[1;36m80\u001b[0m\u001b[1;33m]\u001b[0m\u001b[1;33m]\u001b[0m\u001b[1;33m)\u001b[0m\u001b[1;33m\u001b[0m\u001b[0m\n\u001b[0m",
      "\u001b[1;31mNameError\u001b[0m: name 'listlist2mat' is not defined"
     ]
    }
   ],
   "source": [
    "A = listlist2mat([[10, 20, 30, 40], [50, 60, 70, 80]])"
   ]
  },
  {
   "cell_type": "code",
   "execution_count": 106,
   "metadata": {
    "collapsed": false
   },
   "outputs": [
    {
     "ename": "NameError",
     "evalue": "name 'A' is not defined",
     "output_type": "error",
     "traceback": [
      "\u001b[1;31m---------------------------------------------------------------------------\u001b[0m",
      "\u001b[1;31mNameError\u001b[0m                                 Traceback (most recent call last)",
      "\u001b[1;32m<ipython-input-106-132c38f01ecd>\u001b[0m in \u001b[0;36m<module>\u001b[1;34m()\u001b[0m\n\u001b[1;32m----> 1\u001b[1;33m \u001b[1;32mprint\u001b[0m\u001b[1;33m(\u001b[0m\u001b[0mA\u001b[0m\u001b[1;33m)\u001b[0m\u001b[1;33m\u001b[0m\u001b[0m\n\u001b[0m",
      "\u001b[1;31mNameError\u001b[0m: name 'A' is not defined"
     ]
    }
   ],
   "source": [
    "print(A)"
   ]
  },
  {
   "cell_type": "markdown",
   "metadata": {},
   "source": [
    "## 5.2 열공간 (Column space)과 행공간 (Row space)\n",
    "\n",
    "행렬은 \"열들의 묶음\"과 \"행들의 묶음\"으로 해석할 수 있다.\n",
    "\n",
    "** Definition 5.2.1 : **행렬 M에 대해,\n",
    "- M의 열공간은 Col M으로 나타내며 M의 열들에 의해 생성된 벡터공간이다.\n",
    "- M의 행공간은 Row M으로 나타내며 M의 행들에 의해 생성된 벡터공간이다.\n",
    "\n",
    "\n",
    "** Example 5,2,2 **\n",
    "\n",
    "$$\n",
    "\\begin{bmatrix}\n",
    "1 & 2 & 3 \\\\\n",
    "10 & 20 & 30 \\\\\n",
    "\\end{bmatrix}\n",
    "$$\n",
    "\n",
    "의 열공간은 Span {[1,10], [2,20], [3,30]}이다. 이 경우, [2,20]과 [3,30]은 [1.10]의 스칼라배이므로 열공간은 Span{[1,10]}과 동일하다.\n",
    "\n",
    "\n",
    "## 5.3 벡터로서의 행렬\n",
    "\n",
    "- 행렬은 벡터로 해석될 수 있다. 그래서, \"스칼라-벡터 곱셈\" 과 \"벡터 덧셈\"을 행렬에도 사용할 수 있다.\n",
    "\n",
    "** Quiz 5.3.1 :** 프로시져, mat2Vec(M)을 작성해 보자. 이 프로시져는 주어진 Mat의 인스턴스에 대해 대응하는 Vec의 인스턴스를 리턴한다."
   ]
  },
  {
   "cell_type": "code",
   "execution_count": 82,
   "metadata": {
    "collapsed": false
   },
   "outputs": [],
   "source": [
    "def mat2vec(M) :\n",
    "    return Vec({(r,s) for r in M.D[0] for s in M.D[1]}, M.f)"
   ]
  },
  {
   "cell_type": "markdown",
   "metadata": {},
   "source": [
    "## 5.4 전치 (Transpose)\n",
    "\n",
    "- 행렬의 전치는 행과 열을 바꾸는 것이다.\n",
    "\n",
    "\n",
    "** Definition 5.4.1 : ** P * Q 행렬의 전치는  $\n",
    "M^T\n",
    "$로 나타내며, 모든 i ∈ P, j ∈Q에 대해 $(M^T)_ij$ = $M_ij$을 만족하는 Q X P 행렬이다.\n",
    "\n",
    "** Quiz 5.4.1 :** 프로시져, transpose(M)을 작성해 보자"
   ]
  },
  {
   "cell_type": "code",
   "execution_count": 83,
   "metadata": {
    "collapsed": false
   },
   "outputs": [
    {
     "ename": "NameError",
     "evalue": "global name 'p' is not defined",
     "output_type": "error",
     "traceback": [
      "\u001b[1;31m---------------------------------------------------------------------------\u001b[0m",
      "\u001b[1;31mNameError\u001b[0m                                 Traceback (most recent call last)",
      "\u001b[1;32m<ipython-input-83-742ba599fbf7>\u001b[0m in \u001b[0;36m<module>\u001b[1;34m()\u001b[0m\n\u001b[1;32m----> 1\u001b[1;33m \u001b[1;32mprint\u001b[0m\u001b[1;33m(\u001b[0m\u001b[0mtranspose\u001b[0m\u001b[1;33m(\u001b[0m\u001b[0mM\u001b[0m\u001b[1;33m)\u001b[0m\u001b[1;33m)\u001b[0m\u001b[1;33m\u001b[0m\u001b[0m\n\u001b[0m",
      "\u001b[1;32m<ipython-input-80-3d586cdebe8a>\u001b[0m in \u001b[0;36mtranspose\u001b[1;34m(M)\u001b[0m\n\u001b[0;32m      1\u001b[0m \u001b[1;32mdef\u001b[0m \u001b[0mtranspose\u001b[0m\u001b[1;33m(\u001b[0m\u001b[0mM\u001b[0m\u001b[1;33m)\u001b[0m \u001b[1;33m:\u001b[0m\u001b[1;33m\u001b[0m\u001b[0m\n\u001b[1;32m----> 2\u001b[1;33m     \u001b[1;32mreturn\u001b[0m \u001b[0mMat\u001b[0m\u001b[1;33m(\u001b[0m\u001b[1;33m(\u001b[0m\u001b[0mM\u001b[0m\u001b[1;33m.\u001b[0m\u001b[0mD\u001b[0m\u001b[1;33m[\u001b[0m\u001b[1;36m1\u001b[0m\u001b[1;33m]\u001b[0m\u001b[1;33m,\u001b[0m \u001b[0mM\u001b[0m\u001b[1;33m.\u001b[0m\u001b[0mD\u001b[0m\u001b[1;33m[\u001b[0m\u001b[1;36m0\u001b[0m\u001b[1;33m]\u001b[0m\u001b[1;33m,\u001b[0m \u001b[1;33m{\u001b[0m\u001b[1;33m(\u001b[0m\u001b[0mp\u001b[0m\u001b[1;33m,\u001b[0m\u001b[0mq\u001b[0m\u001b[1;33m)\u001b[0m\u001b[1;33m,\u001b[0m \u001b[0mv\u001b[0m \u001b[1;32min\u001b[0m \u001b[0mM\u001b[0m\u001b[1;33m.\u001b[0m\u001b[0mF\u001b[0m\u001b[1;33m.\u001b[0m\u001b[0mitems\u001b[0m\u001b[1;33m(\u001b[0m\u001b[1;33m)\u001b[0m\u001b[1;33m}\u001b[0m\u001b[1;33m)\u001b[0m\u001b[1;33m)\u001b[0m\u001b[1;33m\u001b[0m\u001b[0m\n\u001b[0m",
      "\u001b[1;31mNameError\u001b[0m: global name 'p' is not defined"
     ]
    }
   ],
   "source": [
    "print(transpose(M))"
   ]
  },
  {
   "cell_type": "code",
   "execution_count": 14,
   "metadata": {
    "collapsed": true
   },
   "outputs": [],
   "source": [
    "def transpose(M):\n",
    "    return Mat((M.D[1], M.D[0]), {(q, p): v for (p,q), v in M.F.items()})"
   ]
  },
  {
   "cell_type": "markdown",
   "metadata": {},
   "source": [
    "- 대칭행렬 M 설명\n",
    "\n",
    "** Example 5.4.3 : ** \n",
    "\n",
    "$$\n",
    "\\begin{bmatrix}\n",
    "1 & 2  \\\\\n",
    "3 & 4  \\\\\n",
    "\\end{bmatrix}\n",
    "$$는 대칭행렬이 아니다. \n",
    "\n",
    "$$\n",
    "\\begin{bmatrix}\n",
    "1 & 2  \\\\\n",
    "2 & 4  \\\\\n",
    "\\end{bmatrix}\n",
    "$$는 대칭행렬이다. \n",
    "\n",
    "\n",
    "## 5.5 선형결합의 행렬-벡터 곱셈과 벡터-행렬 곱셈\n",
    "\n",
    "- 행렬을 벡터로 곱하는 2가지 방법 : 행렬-벡터 곱셈 , 벡터-행렬 곱셈\n",
    "- 이에 대한 계산을 선형결합, 도트곱을 사용하여 보여준다.\n",
    "\n",
    "\n",
    "### 5.5.1 선형결합의 행렬-벡터 곱셈\n",
    "\n",
    "** Definion 5.5.1 ** M을 F상의 R X C 행렬이라 하자. v는 F상의 C-벡터라 하자. 그러면 M * v 는 선형결합이다.\n",
    "이 경우, M이 m X n행렬이면 n-벡터 인경우에만 선형결합으로 계산할 수 있다.\n",
    "\n",
    "** Example 5.5.2: **  전통적인 행렬을 사용하는 한 예를 고려해 보자.\n",
    "\n",
    "$$\n",
    "\\begin{bmatrix}\n",
    "1 & 2 & 3 \\\\\n",
    "10 & 20 & 30 \\\\\n",
    "\\end{bmatrix}\n",
    "* [7,0,4] = 7[1,10] + 0[2,20] + 4[3,30] = [7,70]+[0,0]+[12,120]=[19,190]\n",
    "$$ \n",
    "\n",
    "** Example 5.5.3 :** 행렬에 곱할 수 있는 벡터의 조건은?\n",
    "$$\n",
    "\\begin{bmatrix}\n",
    "1 & 2 & 3 \\\\\n",
    "10 & 20 & 30 \\\\\n",
    "\\end{bmatrix}\n",
    "* [7,0]은 할 수 없다.\n",
    "$$\n",
    "\n",
    "\n",
    "** Example 5.5.5 :** Lights Out 퍼즐에 대한 해는 \"버튼 벡터\"들의 선형결합이다.  (Example 4.1.9 - p129)\n",
    "\n",
    "\n",
    "### 5.5.2 선형결합의 벡터-행렬 곱셈\n",
    "\n",
    "\n",
    "** definition 5.5.6 ** : M을 R X C 행렬이라 하자. w는 R벡터라 하자. 그러면, w*M은 선형결합니다.\n",
    "\n",
    "- 행렬과 벡터 사이의 곱은 **교환성**이 성립하지 않는다.\n",
    "\n",
    "** Example 5.5.7 : **\n",
    "\n",
    "$$\n",
    "[3,4] *\n",
    "\\begin{bmatrix}\n",
    "1 & 2 & 3 \\\\\n",
    "10 & 20 & 30 \\\\\n",
    "\\end{bmatrix}\n",
    "= 3[1,2,3] + 4[10,20,30] = [3,6,9] + [40,80,120] = [43,86,129]\n",
    "$$ \n",
    "\n",
    "\n",
    "** Example 5.5.10 : ** 섹션 4.1.2에서 선형결합의 응용 예 (p 126 ~ 127 참조)"
   ]
  },
  {
   "cell_type": "markdown",
   "metadata": {},
   "source": [
    "### 5.5.3 주어진 벡터의 선형결합 표현을 행랼-벡터 곱셈으로 구성하기\n",
    "\n",
    "- 다음 예는 주어진 벡터를 선형결합으로 표현하는 문제\n",
    "\n",
    "** Example 5.5.11 :** 섹션 4.1.4의 산업 스파이 문제는 ** x * M = b ** 로 풀 수 있다.\n",
    "\n",
    "** Example 5.5.12 : ** Example 4.1.9(p129)의 Lights Out 퍼즐 문제"
   ]
  },
  {
   "cell_type": "code",
   "execution_count": 60,
   "metadata": {
    "collapsed": false
   },
   "outputs": [
    {
     "ename": "NameError",
     "evalue": "name 'coldict2mat' is not defined",
     "output_type": "error",
     "traceback": [
      "\u001b[1;31m---------------------------------------------------------------------------\u001b[0m",
      "\u001b[1;31mNameError\u001b[0m                                 Traceback (most recent call last)",
      "\u001b[1;32m<ipython-input-60-dd74053dd6e0>\u001b[0m in \u001b[0;36m<module>\u001b[1;34m()\u001b[0m\n\u001b[1;32m----> 1\u001b[1;33m \u001b[0mB\u001b[0m \u001b[1;33m=\u001b[0m \u001b[0mcoldict2mat\u001b[0m\u001b[1;33m(\u001b[0m\u001b[0mbutton_vectors\u001b[0m\u001b[1;33m(\u001b[0m\u001b[1;36m5\u001b[0m\u001b[1;33m)\u001b[0m\u001b[1;33m)\u001b[0m\u001b[1;33m\u001b[0m\u001b[0m\n\u001b[0m",
      "\u001b[1;31mNameError\u001b[0m: name 'coldict2mat' is not defined"
     ]
    }
   ],
   "source": [
    "B = coldict2mat(button_vectors(5))"
   ]
  },
  {
   "cell_type": "code",
   "execution_count": 61,
   "metadata": {
    "collapsed": false
   },
   "outputs": [
    {
     "ename": "NameError",
     "evalue": "name 'b' is not defined",
     "output_type": "error",
     "traceback": [
      "\u001b[1;31m---------------------------------------------------------------------------\u001b[0m",
      "\u001b[1;31mNameError\u001b[0m                                 Traceback (most recent call last)",
      "\u001b[1;32m<ipython-input-61-10aecbd476b6>\u001b[0m in \u001b[0;36m<module>\u001b[1;34m()\u001b[0m\n\u001b[1;32m----> 1\u001b[1;33m \u001b[0ms\u001b[0m \u001b[1;33m=\u001b[0m \u001b[0mVec\u001b[0m\u001b[1;33m(\u001b[0m\u001b[0mb\u001b[0m\u001b[1;33m.\u001b[0m\u001b[0mD\u001b[0m\u001b[1;33m,\u001b[0m \u001b[1;33m{\u001b[0m\u001b[1;33m(\u001b[0m\u001b[1;36m2\u001b[0m\u001b[1;33m,\u001b[0m\u001b[1;36m2\u001b[0m\u001b[1;33m)\u001b[0m\u001b[1;33m:\u001b[0m \u001b[0mone\u001b[0m\u001b[1;33m}\u001b[0m\u001b[1;33m)\u001b[0m\u001b[1;33m\u001b[0m\u001b[0m\n\u001b[0m",
      "\u001b[1;31mNameError\u001b[0m: name 'b' is not defined"
     ]
    }
   ],
   "source": [
    "s = Vec(b.D, {(2,2): one})"
   ]
  },
  {
   "cell_type": "markdown",
   "metadata": {},
   "source": [
    "### 5.5.4 행렬-벡터 방정식의 해 구하기\n",
    "\n",
    "** Computational Problem 5,5,13 : ** 행렬-벡터 방정식의 해 구하기\n",
    "- input : R X C 행렬 A와 R-벡터 b\n",
    "- output : A * x = b를 만족하는 C-벡터 x\n",
    "\n",
    "\n",
    "** Example 5.5. 14 :** Example 4.4.13(p 143)에서 Span{[a,b], [c,d]}을 고려하였다.\n",
    "\n",
    "이 때, 모든 벡터 [p,q]에 대해 다음을 만족하는 계수 α와 β가 있다.\n",
    "\n",
    "$$[p, q] = α[a,b] + β[c,d] 는  \n",
    "\\begin{bmatrix}\n",
    "a & c  \\\\\n",
    "b & d  \\\\\n",
    "\\end{bmatrix} * [α,β] = [p,q] 와 같다.\n",
    "$$\n",
    "\n",
    "\n",
    "** Example 5.5.15 : ** solve(A, b)를 사용하요 산업스파이 문제를 풀어보자.\n",
    "\n",
    "** Example 5.5.16 : ** Example 5.5.12 (p174), solve(A, b)를 사용하여 가운데 버튼의 불만 켜져 있는 상태에서 시작하여 5 X 5 Lights Out 퍼즐을 풀어 보자.\n",
    "\n",
    "\n",
    "## 5.6 도트곱의 행렬-벡터 곱셈\n",
    "\n",
    "### 5.6.1 정의\n",
    "\n",
    "** Definition 5.6.1 **(행렬-벡터 곱셈의 도트곱 정의) 만약 M이 R X C 행렬이고, u는 C-벡터이면, M * u 는 벡터 v이다. 이때, v[r]은 M의 행 r과 u의 도트곱이다.\n",
    "\n",
    "** Example 5.6.2 :**  행렬-벡터 곱셈을 고려해 보자.\n",
    "\n",
    "$$\n",
    "\\begin{bmatrix}\n",
    "1 & 2  \\\\\n",
    "3 & 4  \\\\\n",
    "10 & 0  \\\\\n",
    "\\end{bmatrix} * [3,-1] = [[1,2]•[3,-1], [3,4]•[3,-1], [10,0]•[3,-1]] = [1,5,30]\n",
    "$$\n",
    "\n",
    "\n",
    "** Definition 5.6.3 ** (벡터-행렬 곱셈의 도트곱 정의) 만약 M이 R X C 행렬이고, u는 R-벡터이면, u * M 는 벡터 v이다. 이때, v[c]은 u와 M의 열 c의 도트곱이다.\n",
    "\n",
    "\n",
    "\n",
    "### 5.6.3 선형방정식들의 시스템을 행렬-벡터 방정식으로 구성하기\n",
    "\n",
    "** Example 5.6.7 : ** Example 3.9.7(p 98)에서 센서 노드들의 하드웨어 구성 요소들에 대한 전력 소모를 알아보았다. 이 예제의 목적은 각 하드웨어 구성 요소에 대해 그 구성요소가 사용하는 전류를 나타내는 D-벡터를 계산하난 것이다.\n",
    "\n",
    "- 선형시스템의 해를 구하는 것은 (Computational Problem 3.9.12)은 행렬방정식의 해를 구하는 것(Computational Problem 5.5.13)이 된다.\n",
    "\n",
    "\n",
    "### 5.6.4 삼각시스템(Triangular system)과 삼각행렬(Triangular matrix)\n",
    "\n",
    "** Example 5.6.8 :** Example 3.11.11(p 113)의 삼각시스템을 행렬-벡타 방정식으로 다시 표현하면 다음과 같다.\n",
    "\n",
    "$$\n",
    "\\begin{bmatrix}\n",
    "1 & 0.5 & -2 & 4  \\\\\n",
    "0 & 3 & 3 & 2  \\\\\n",
    "0 & 0 & 1 & 5  \\\\\n",
    "0 & 0 & 0 & 2  \\\\\n",
    "\\end{bmatrix} * x = [-8,3,-4,6]\n",
    "$$\n",
    "\n",
    "** Definition 5.6.9 :**  n X n 상삼각 (upper-triangular) 행렬 A는 i>j에 대해 Aij = 0인 행렬이다.\n",
    "\n",
    "** Example 5.6.11 :**  {a,b,c} X {@, #, ?} 행렬\n",
    "\n",
    "$$\n",
    "\\begin{array}{c|lcr}\n",
    " & \\text{@} & \\text{#} & \\text{?} \\\\\n",
    "\\hline\n",
    "a & 0 & 2 & 3 \\\\\n",
    "b & 10 & 20 & 30 \\\\\n",
    "b & 0 & 35 & 0 \\\\\n",
    "\\end{array}\n",
    "$$  은 삼각행렬이다. 재정렬하면 다음과 같다.\n",
    "\n",
    "$$\n",
    "\\begin{array}{c|lcr}\n",
    " & \\text{@} & \\text{?} & \\text{#} \\\\\n",
    "\\hline\n",
    "b & 10 & 20 & 30 \\\\\n",
    "a & 0 & 3 & 2 \\\\\n",
    "b & 0 & 0 & 35 \\\\\n",
    "\\end{array}\n",
    "$$\n",
    "\n",
    "\n",
    "\n",
    "### 5.6.5 행렬-벡터 곱셈의 산술적 성질\n",
    "\n",
    "행렬-벡터의 도트곱을 이용하여 두 가지 중요한 성질이 있다.\n",
    "\n",
    "- 임의의 C-벡터 v와 임의의 스칼라 a에 대해 , M * (av) = a(M * v)\n",
    "- 임의의 C-벡터 u와 v에 대해, M * (u + v) = M * u + M * v\n",
    "\n",
    "\n",
    "## 5.7 영공간 (Nul l space)\n",
    "\n",
    "\n",
    "\n",
    "### 5.7.1 동차 선형시스템과 행렬방정식\n",
    "\n",
    "- 동차 선형시스템 : 우변의 값들이 모두 0 인 선형방정식들의 시스템이다. A * x = 0\n",
    "\n",
    "\n",
    "** Definition 5.7.1 :**  행렬 A의 영공간은 집합 {u : A * u = 0 } 이다. 이것은 Null A로 나타낸다.\n",
    "\n",
    "** Example 5.7.2 :** \n",
    "\n",
    "$$ \\left[\n",
    "    \\begin{array}{c|c|c}\n",
    "      1&4&5\\\\\n",
    "      2&5&7\\\\\n",
    "      3&6&9\\\\\n",
    "    \\end{array}\n",
    "\\right] $$는 첫 두열의 합이 세번째 열과 동일하므로, A * [1,1,-1]은 영벡터이다. 따라서, [1,1,-1]은 Null A에 속한다.\n",
    "\n",
    "임의의 α에 대해 A * (α[1,1,-1])도 영벡터이다.\n",
    "\n",
    "** Lemma 5.7.4 : ** 임의의 R X C행렬 A과 C-벡터 v에 대해 벡터 z가 A의 영공간에 있을 필요충분조선은 ** A * (v + z) = A * v ** 이다.\n",
    "\n",
    "\n",
    "### 5.7.2 행렬-벡터 방정식의 해공간\n",
    "\n",
    "** Corollary 5.7.5: ** $u_1$ 은 행렬-벡터 방정식 A * x = b 의 해라고 하자. 그러면, $u_2$ 도 또한 해가 될 필요충분조건은 $u_1 - u_2$ 가 A의 영공간에 속하는 것이다.\n",
    "\n",
    "## 5.8 스파스 (Sparse) 행렬-벡터 곱 계산\n",
    "\n",
    "** Definition 5.8.1 ** (행렬-벡터 곱셈의 일반적 정의)"
   ]
  },
  {
   "cell_type": "code",
   "execution_count": null,
   "metadata": {
    "collapsed": true
   },
   "outputs": [],
   "source": []
  }
 ],
 "metadata": {
  "kernelspec": {
   "display_name": "Python 2",
   "language": "python",
   "name": "python2"
  },
  "language_info": {
   "codemirror_mode": {
    "name": "ipython",
    "version": 2
   },
   "file_extension": ".py",
   "mimetype": "text/x-python",
   "name": "python",
   "nbconvert_exporter": "python",
   "pygments_lexer": "ipython2",
   "version": "2.7.8"
  }
 },
 "nbformat": 4,
 "nbformat_minor": 0
}
