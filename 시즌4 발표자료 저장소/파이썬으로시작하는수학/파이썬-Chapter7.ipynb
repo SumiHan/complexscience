{
 "cells": [
  {
   "cell_type": "markdown",
   "metadata": {},
   "source": [
    "# 미적분 문제 풀기\n",
    "\n",
    "* 여기서는 함수의 미분과 적분을 SymPy를 이용하여 다룬다."
   ]
  },
  {
   "cell_type": "markdown",
   "metadata": {},
   "source": [
    "## 함수란?\n",
    "\n",
    "* Wikipedia에서 : In mathematics, a function is a relation between a set of inputs and a set of permissible outputs with the property that each input is related to exactly one output.\n",
    "* ‘x’는 독립변수\n",
    "* 함수 도메인(Function Domain)는 유효한 입력값의 집합\n",
    "* 범위 : 함수의 결과집합\n",
    "\n",
    "참고 : https://en.wikipedia.org/wiki/Function_(mathematics)"
   ]
  },
  {
   "cell_type": "markdown",
   "metadata": {},
   "source": [
    "## 일반적인 수학 함수에 대한 개요\n",
    "\n",
    "* Python에서는 math library를 이용하여 일반적인 수학함수를 사용할 수 있다.\n",
    "* math.sin(), math.cos(), math.log(), math.log2(), math.log10(), math.exp() 등이 있다.\n",
    "* 이러한 모든 함수의 단점은 부호수식으로 작업하기에는 부적합하다는 점이다.\n"
   ]
  },
  {
   "cell_type": "code",
   "execution_count": 1,
   "metadata": {
    "collapsed": false,
    "scrolled": true
   },
   "outputs": [
    {
     "name": "stdout",
     "output_type": "stream",
     "text": [
      "1.0\n"
     ]
    }
   ],
   "source": [
    "import math\n",
    "print(math.sin(math.pi/2))"
   ]
  },
  {
   "cell_type": "code",
   "execution_count": 2,
   "metadata": {
    "collapsed": false
   },
   "outputs": [
    {
     "ename": "NameError",
     "evalue": "name 'x' is not defined",
     "output_type": "error",
     "traceback": [
      "\u001b[0;31m---------------------------------------------------------------------------\u001b[0m",
      "\u001b[0;31mNameError\u001b[0m                                 Traceback (most recent call last)",
      "\u001b[0;32m<ipython-input-2-81745ac23551>\u001b[0m in \u001b[0;36m<module>\u001b[0;34m()\u001b[0m\n\u001b[0;32m----> 1\u001b[0;31m \u001b[0;32mprint\u001b[0m\u001b[0;34m(\u001b[0m\u001b[0mx\u001b[0m\u001b[0;34m)\u001b[0m\u001b[0;34m\u001b[0m\u001b[0m\n\u001b[0m",
      "\u001b[0;31mNameError\u001b[0m: name 'x' is not defined"
     ]
    }
   ],
   "source": [
    "print(x)"
   ]
  },
  {
   "cell_type": "code",
   "execution_count": 3,
   "metadata": {
    "collapsed": false
   },
   "outputs": [
    {
     "ename": "TypeError",
     "evalue": "can't convert expression to float",
     "output_type": "error",
     "traceback": [
      "\u001b[0;31m---------------------------------------------------------------------------\u001b[0m",
      "\u001b[0;31mTypeError\u001b[0m                                 Traceback (most recent call last)",
      "\u001b[0;32m<ipython-input-3-00652fdfe3d8>\u001b[0m in \u001b[0;36m<module>\u001b[0;34m()\u001b[0m\n\u001b[1;32m      1\u001b[0m \u001b[0;32mfrom\u001b[0m \u001b[0msympy\u001b[0m \u001b[0;32mimport\u001b[0m \u001b[0mSymbol\u001b[0m\u001b[0;34m\u001b[0m\u001b[0m\n\u001b[1;32m      2\u001b[0m \u001b[0mtheta\u001b[0m \u001b[0;34m=\u001b[0m \u001b[0mSymbol\u001b[0m\u001b[0;34m(\u001b[0m\u001b[0;34m'theta'\u001b[0m\u001b[0;34m)\u001b[0m\u001b[0;34m\u001b[0m\u001b[0m\n\u001b[0;32m----> 3\u001b[0;31m \u001b[0;32mprint\u001b[0m \u001b[0mmath\u001b[0m\u001b[0;34m.\u001b[0m\u001b[0msin\u001b[0m\u001b[0;34m(\u001b[0m\u001b[0mtheta\u001b[0m\u001b[0;34m)\u001b[0m \u001b[0;34m+\u001b[0m \u001b[0mmath\u001b[0m\u001b[0;34m.\u001b[0m\u001b[0msin\u001b[0m\u001b[0;34m(\u001b[0m\u001b[0mtheta\u001b[0m\u001b[0;34m)\u001b[0m\u001b[0;34m\u001b[0m\u001b[0m\n\u001b[0m",
      "\u001b[0;32m/usr/local/lib/python2.7/site-packages/sympy/core/expr.pyc\u001b[0m in \u001b[0;36m__float__\u001b[0;34m(self)\u001b[0m\n\u001b[1;32m    224\u001b[0m         \u001b[0;32mif\u001b[0m \u001b[0mresult\u001b[0m\u001b[0;34m.\u001b[0m\u001b[0mis_number\u001b[0m \u001b[0;32mand\u001b[0m \u001b[0mresult\u001b[0m\u001b[0;34m.\u001b[0m\u001b[0mas_real_imag\u001b[0m\u001b[0;34m(\u001b[0m\u001b[0;34m)\u001b[0m\u001b[0;34m[\u001b[0m\u001b[0;36m1\u001b[0m\u001b[0;34m]\u001b[0m\u001b[0;34m:\u001b[0m\u001b[0;34m\u001b[0m\u001b[0m\n\u001b[1;32m    225\u001b[0m             \u001b[0;32mraise\u001b[0m \u001b[0mTypeError\u001b[0m\u001b[0;34m(\u001b[0m\u001b[0;34m\"can't convert complex to float\"\u001b[0m\u001b[0;34m)\u001b[0m\u001b[0;34m\u001b[0m\u001b[0m\n\u001b[0;32m--> 226\u001b[0;31m         \u001b[0;32mraise\u001b[0m \u001b[0mTypeError\u001b[0m\u001b[0;34m(\u001b[0m\u001b[0;34m\"can't convert expression to float\"\u001b[0m\u001b[0;34m)\u001b[0m\u001b[0;34m\u001b[0m\u001b[0m\n\u001b[0m\u001b[1;32m    227\u001b[0m \u001b[0;34m\u001b[0m\u001b[0m\n\u001b[1;32m    228\u001b[0m     \u001b[0;32mdef\u001b[0m \u001b[0m__complex__\u001b[0m\u001b[0;34m(\u001b[0m\u001b[0mself\u001b[0m\u001b[0;34m)\u001b[0m\u001b[0;34m:\u001b[0m\u001b[0;34m\u001b[0m\u001b[0m\n",
      "\u001b[0;31mTypeError\u001b[0m: can't convert expression to float"
     ]
    }
   ],
   "source": [
    "from sympy import Symbol\n",
    "theta = Symbol('theta')\n",
    "print math.sin(theta) + math.sin(theta)"
   ]
  },
  {
   "cell_type": "code",
   "execution_count": 4,
   "metadata": {
    "collapsed": false
   },
   "outputs": [
    {
     "data": {
      "text/plain": [
       "2*sin(theta)"
      ]
     },
     "execution_count": 4,
     "metadata": {},
     "output_type": "execute_result"
    }
   ],
   "source": [
    "import sympy\n",
    "sympy.sin(theta) + sympy.sin(theta)"
   ]
  },
  {
   "cell_type": "markdown",
   "metadata": {},
   "source": [
    "## EXAMPLE II\n",
    "\n",
    "특정한 각도 $\\theta$로 공을 던졌을때, 가장 높은 지점에 도달할때의 시간 t는?\n",
    "\n",
    "$u \\sin(\\theta) - g t = 0$"
   ]
  },
  {
   "cell_type": "code",
   "execution_count": null,
   "metadata": {
    "collapsed": true
   },
   "outputs": [],
   "source": [
    "theta = 45\n",
    "u = 10\n",
    "for t in range(0, 100):\n",
    "    f = u * sin(theta) - 9.8 * t\n",
    "    if f == 0.:\n",
    "        print (t)"
   ]
  },
  {
   "cell_type": "code",
   "execution_count": 5,
   "metadata": {
    "collapsed": false
   },
   "outputs": [
    {
     "name": "stdout",
     "output_type": "stream",
     "text": [
      "[u*sin(theta)/g]\n"
     ]
    }
   ],
   "source": [
    "from sympy import sin, solve, Symbol\n",
    "u = Symbol('u')\n",
    "t = Symbol('t')\n",
    "g = Symbol('g')\n",
    "theta = Symbol('theta')\n",
    "print solve(u * sin(theta) - g * t, t)"
   ]
  },
  {
   "cell_type": "markdown",
   "metadata": {},
   "source": [
    "## SymPy"
   ]
  },
  {
   "cell_type": "code",
   "execution_count": 6,
   "metadata": {
    "collapsed": false
   },
   "outputs": [
    {
     "ename": "TypeError",
     "evalue": "cannot determine truth value of Relational",
     "output_type": "error",
     "traceback": [
      "\u001b[0;31m---------------------------------------------------------------------------\u001b[0m",
      "\u001b[0;31mTypeError\u001b[0m                                 Traceback (most recent call last)",
      "\u001b[0;32m<ipython-input-6-a5a8a818af7e>\u001b[0m in \u001b[0;36m<module>\u001b[0;34m()\u001b[0m\n\u001b[1;32m      1\u001b[0m \u001b[0;32mfrom\u001b[0m \u001b[0msympy\u001b[0m \u001b[0;32mimport\u001b[0m \u001b[0mSymbol\u001b[0m\u001b[0;34m\u001b[0m\u001b[0m\n\u001b[1;32m      2\u001b[0m \u001b[0mx\u001b[0m \u001b[0;34m=\u001b[0m \u001b[0mSymbol\u001b[0m\u001b[0;34m(\u001b[0m\u001b[0;34m'x'\u001b[0m\u001b[0;34m)\u001b[0m\u001b[0;34m\u001b[0m\u001b[0m\n\u001b[0;32m----> 3\u001b[0;31m \u001b[0;32mif\u001b[0m \u001b[0;34m(\u001b[0m\u001b[0mx\u001b[0m\u001b[0;34m+\u001b[0m\u001b[0;36m5\u001b[0m\u001b[0;34m)\u001b[0m \u001b[0;34m>\u001b[0m \u001b[0;36m0\u001b[0m\u001b[0;34m:\u001b[0m\u001b[0;34m\u001b[0m\u001b[0m\n\u001b[0m\u001b[1;32m      4\u001b[0m     \u001b[0;32mprint\u001b[0m \u001b[0;34m(\u001b[0m\u001b[0;34m'Do Something'\u001b[0m\u001b[0;34m)\u001b[0m\u001b[0;34m\u001b[0m\u001b[0m\n\u001b[1;32m      5\u001b[0m \u001b[0;32melse\u001b[0m\u001b[0;34m:\u001b[0m\u001b[0;34m\u001b[0m\u001b[0m\n",
      "\u001b[0;32m/usr/local/lib/python2.7/site-packages/sympy/core/relational.pyc\u001b[0m in \u001b[0;36m__nonzero__\u001b[0;34m(self)\u001b[0m\n\u001b[1;32m    193\u001b[0m \u001b[0;34m\u001b[0m\u001b[0m\n\u001b[1;32m    194\u001b[0m     \u001b[0;32mdef\u001b[0m \u001b[0m__nonzero__\u001b[0m\u001b[0;34m(\u001b[0m\u001b[0mself\u001b[0m\u001b[0;34m)\u001b[0m\u001b[0;34m:\u001b[0m\u001b[0;34m\u001b[0m\u001b[0m\n\u001b[0;32m--> 195\u001b[0;31m         \u001b[0;32mraise\u001b[0m \u001b[0mTypeError\u001b[0m\u001b[0;34m(\u001b[0m\u001b[0;34m\"cannot determine truth value of Relational\"\u001b[0m\u001b[0;34m)\u001b[0m\u001b[0;34m\u001b[0m\u001b[0m\n\u001b[0m\u001b[1;32m    196\u001b[0m \u001b[0;34m\u001b[0m\u001b[0m\n\u001b[1;32m    197\u001b[0m     \u001b[0m__bool__\u001b[0m \u001b[0;34m=\u001b[0m \u001b[0m__nonzero__\u001b[0m\u001b[0;34m\u001b[0m\u001b[0m\n",
      "\u001b[0;31mTypeError\u001b[0m: cannot determine truth value of Relational"
     ]
    }
   ],
   "source": [
    "from sympy import Symbol\n",
    "x = Symbol('x')\n",
    "if (x+5) > 0:\n",
    "    print ('Do Something')\n",
    "else:\n",
    "    print ('Do Something Else')"
   ]
  },
  {
   "cell_type": "code",
   "execution_count": 7,
   "metadata": {
    "collapsed": false
   },
   "outputs": [
    {
     "name": "stdout",
     "output_type": "stream",
     "text": [
      "Do Something\n"
     ]
    }
   ],
   "source": [
    "x = Symbol('x', positive=True) # Hint!!\n",
    "if (x+5) > 0:\n",
    "    print 'Do Something'\n",
    "else:\n",
    "    print 'Do Something Else'"
   ]
  },
  {
   "cell_type": "code",
   "execution_count": 8,
   "metadata": {
    "collapsed": false
   },
   "outputs": [
    {
     "ename": "TypeError",
     "evalue": "cannot determine truth value of Relational",
     "output_type": "error",
     "traceback": [
      "\u001b[0;31m---------------------------------------------------------------------------\u001b[0m",
      "\u001b[0;31mTypeError\u001b[0m                                 Traceback (most recent call last)",
      "\u001b[0;32m<ipython-input-8-fb6a125079be>\u001b[0m in \u001b[0;36m<module>\u001b[0;34m()\u001b[0m\n\u001b[1;32m      1\u001b[0m \u001b[0mx\u001b[0m \u001b[0;34m=\u001b[0m \u001b[0mSymbol\u001b[0m\u001b[0;34m(\u001b[0m\u001b[0;34m'x'\u001b[0m\u001b[0;34m,\u001b[0m \u001b[0mnegative\u001b[0m\u001b[0;34m=\u001b[0m\u001b[0mTrue\u001b[0m\u001b[0;34m)\u001b[0m \u001b[0;31m# Hint!!\u001b[0m\u001b[0;34m\u001b[0m\u001b[0m\n\u001b[0;32m----> 2\u001b[0;31m \u001b[0;32mif\u001b[0m \u001b[0;34m(\u001b[0m\u001b[0mx\u001b[0m\u001b[0;34m+\u001b[0m\u001b[0;36m5\u001b[0m\u001b[0;34m)\u001b[0m \u001b[0;34m>\u001b[0m \u001b[0;36m0\u001b[0m\u001b[0;34m:\u001b[0m\u001b[0;34m\u001b[0m\u001b[0m\n\u001b[0m\u001b[1;32m      3\u001b[0m     \u001b[0;32mprint\u001b[0m \u001b[0;34m'Do Something'\u001b[0m\u001b[0;34m\u001b[0m\u001b[0m\n\u001b[1;32m      4\u001b[0m \u001b[0;32melse\u001b[0m\u001b[0;34m:\u001b[0m\u001b[0;34m\u001b[0m\u001b[0m\n\u001b[1;32m      5\u001b[0m     \u001b[0;32mprint\u001b[0m \u001b[0;34m'Do Something Else'\u001b[0m\u001b[0;34m\u001b[0m\u001b[0m\n",
      "\u001b[0;32m/usr/local/lib/python2.7/site-packages/sympy/core/relational.pyc\u001b[0m in \u001b[0;36m__nonzero__\u001b[0;34m(self)\u001b[0m\n\u001b[1;32m    193\u001b[0m \u001b[0;34m\u001b[0m\u001b[0m\n\u001b[1;32m    194\u001b[0m     \u001b[0;32mdef\u001b[0m \u001b[0m__nonzero__\u001b[0m\u001b[0;34m(\u001b[0m\u001b[0mself\u001b[0m\u001b[0;34m)\u001b[0m\u001b[0;34m:\u001b[0m\u001b[0;34m\u001b[0m\u001b[0m\n\u001b[0;32m--> 195\u001b[0;31m         \u001b[0;32mraise\u001b[0m \u001b[0mTypeError\u001b[0m\u001b[0;34m(\u001b[0m\u001b[0;34m\"cannot determine truth value of Relational\"\u001b[0m\u001b[0;34m)\u001b[0m\u001b[0;34m\u001b[0m\u001b[0m\n\u001b[0m\u001b[1;32m    196\u001b[0m \u001b[0;34m\u001b[0m\u001b[0m\n\u001b[1;32m    197\u001b[0m     \u001b[0m__bool__\u001b[0m \u001b[0;34m=\u001b[0m \u001b[0m__nonzero__\u001b[0m\u001b[0;34m\u001b[0m\u001b[0m\n",
      "\u001b[0;31mTypeError\u001b[0m: cannot determine truth value of Relational"
     ]
    }
   ],
   "source": [
    "x = Symbol('x', negative=True) # Hint!!\n",
    "if (x+5) > 0:\n",
    "    print 'Do Something'\n",
    "else:\n",
    "    print 'Do Something Else'"
   ]
  },
  {
   "cell_type": "markdown",
   "metadata": {},
   "source": [
    "## 함수의 극한 계산기\n",
    "\n",
    "$$\n",
    "\\lim_{x\\rightarrow \\infty}\\frac{1}{x}=0\n",
    "$$"
   ]
  },
  {
   "cell_type": "code",
   "execution_count": 15,
   "metadata": {
    "collapsed": false
   },
   "outputs": [
    {
     "name": "stdout",
     "output_type": "stream",
     "text": [
      "-oo\n"
     ]
    }
   ],
   "source": [
    "from sympy import Limit, Symbol, S\n",
    "x = Symbol('x')\n",
    "print(Limit(1/x, x, 0, dir='-').doit())"
   ]
  },
  {
   "cell_type": "code",
   "execution_count": null,
   "metadata": {
    "collapsed": true
   },
   "outputs": [],
   "source": [
    "l = Limit(1/x, x, S.Infinity)"
   ]
  },
  {
   "cell_type": "code",
   "execution_count": null,
   "metadata": {
    "collapsed": false
   },
   "outputs": [],
   "source": [
    "l.doit()"
   ]
  },
  {
   "cell_type": "markdown",
   "metadata": {},
   "source": [
    "$$\n",
    "\\lim_{x\\rightarrow -0}\\frac{1}{x}=?\n",
    "$$"
   ]
  },
  {
   "cell_type": "code",
   "execution_count": 16,
   "metadata": {
    "collapsed": false
   },
   "outputs": [
    {
     "name": "stdout",
     "output_type": "stream",
     "text": [
      "-oo\n"
     ]
    }
   ],
   "source": [
    "print Limit(1/x, x, 0, dir='-').doit()"
   ]
  },
  {
   "cell_type": "code",
   "execution_count": null,
   "metadata": {
    "collapsed": false
   },
   "outputs": [],
   "source": [
    "print Limit(1/x, x, 0, dir='+').doit()"
   ]
  },
  {
   "cell_type": "markdown",
   "metadata": {},
   "source": [
    "$$\n",
    "\\lim_{x \\rightarrow 0}\\frac{\\sin(x)}{x}=?\n",
    "$$"
   ]
  },
  {
   "cell_type": "code",
   "execution_count": 17,
   "metadata": {
    "collapsed": false
   },
   "outputs": [
    {
     "name": "stdout",
     "output_type": "stream",
     "text": [
      "1\n"
     ]
    }
   ],
   "source": [
    "from sympy import Symbol, sin\n",
    "print Limit(sin(x)/x, x, 0).doit()"
   ]
  },
  {
   "cell_type": "markdown",
   "metadata": {},
   "source": [
    "## 복리\n",
    "\n",
    "$$\n",
    "A = \\left( 1+\\frac{1}{n} \\right)^{n}\n",
    "$$"
   ]
  },
  {
   "cell_type": "code",
   "execution_count": null,
   "metadata": {
    "collapsed": false
   },
   "outputs": [],
   "source": [
    "from sympy import Limit, Symbol, S\n",
    "n = Symbol('n')\n",
    "print Limit((1+1/n)**n, n, S.Infinity).doit()"
   ]
  },
  {
   "cell_type": "markdown",
   "metadata": {},
   "source": [
    "* 원금 P, 이자율 r과 기간(년) t에 대한 복리이자는 다음과 같은 공식으로...\n",
    "\n",
    "$$\n",
    "A = P \\left( 1 + \\frac{r}{n} \\right) ^{nt} $$"
   ]
  },
  {
   "cell_type": "code",
   "execution_count": 18,
   "metadata": {
    "collapsed": false
   },
   "outputs": [
    {
     "ename": "NameError",
     "evalue": "name 'n' is not defined",
     "output_type": "error",
     "traceback": [
      "\u001b[0;31m---------------------------------------------------------------------------\u001b[0m",
      "\u001b[0;31mNameError\u001b[0m                                 Traceback (most recent call last)",
      "\u001b[0;32m<ipython-input-18-267e53209ff4>\u001b[0m in \u001b[0;36m<module>\u001b[0;34m()\u001b[0m\n\u001b[1;32m      3\u001b[0m \u001b[0mr\u001b[0m \u001b[0;34m=\u001b[0m \u001b[0mSymbol\u001b[0m\u001b[0;34m(\u001b[0m\u001b[0;34m'r'\u001b[0m\u001b[0;34m,\u001b[0m \u001b[0mpositive\u001b[0m \u001b[0;34m=\u001b[0m \u001b[0mTrue\u001b[0m\u001b[0;34m)\u001b[0m\u001b[0;34m\u001b[0m\u001b[0m\n\u001b[1;32m      4\u001b[0m \u001b[0mt\u001b[0m \u001b[0;34m=\u001b[0m \u001b[0mSymbol\u001b[0m\u001b[0;34m(\u001b[0m\u001b[0;34m't'\u001b[0m\u001b[0;34m,\u001b[0m \u001b[0mpositive\u001b[0m \u001b[0;34m=\u001b[0m \u001b[0mTrue\u001b[0m\u001b[0;34m)\u001b[0m\u001b[0;34m\u001b[0m\u001b[0m\n\u001b[0;32m----> 5\u001b[0;31m \u001b[0;32mprint\u001b[0m \u001b[0mLimit\u001b[0m\u001b[0;34m(\u001b[0m\u001b[0mp\u001b[0m\u001b[0;34m*\u001b[0m\u001b[0;34m(\u001b[0m\u001b[0;36m1\u001b[0m\u001b[0;34m+\u001b[0m\u001b[0mr\u001b[0m\u001b[0;34m/\u001b[0m\u001b[0mn\u001b[0m\u001b[0;34m)\u001b[0m\u001b[0;34m**\u001b[0m\u001b[0;34m(\u001b[0m\u001b[0mn\u001b[0m\u001b[0;34m*\u001b[0m\u001b[0mt\u001b[0m\u001b[0;34m)\u001b[0m\u001b[0;34m,\u001b[0m \u001b[0mn\u001b[0m\u001b[0;34m,\u001b[0m \u001b[0mS\u001b[0m\u001b[0;34m.\u001b[0m\u001b[0mInfinity\u001b[0m\u001b[0;34m)\u001b[0m\u001b[0;34m.\u001b[0m\u001b[0mdoit\u001b[0m\u001b[0;34m(\u001b[0m\u001b[0;34m)\u001b[0m\u001b[0;34m\u001b[0m\u001b[0m\n\u001b[0m",
      "\u001b[0;31mNameError\u001b[0m: name 'n' is not defined"
     ]
    }
   ],
   "source": [
    "from sympy import Symbol, Limit, S\n",
    "p = Symbol('p', positive = True)\n",
    "r = Symbol('r', positive = True)\n",
    "t = Symbol('t', positive = True)\n",
    "print Limit(p*(1+r/n)**(n*t), n, S.Infinity).doit()"
   ]
  },
  {
   "cell_type": "markdown",
   "metadata": {},
   "source": [
    "## 실시간 변화율\n",
    "\n",
    "자동차의 이동거리는 다음과 같은 함수로 주어진다고 생각하자.\n",
    "\n",
    "$$ S(t) = 5t^2+2t+8 $$\n",
    "\n",
    "만일 $t_{2}>t_{1}$인 시간 $t_1$과 $t_2$ 동안 이동한 거리를 단위 시간당 거리로 표현한다면,\n",
    "\n",
    "$$\n",
    "\\frac{S(t_2)-S(t_1)}{t_2-t_1}\n",
    "$$\n",
    "\n",
    "이를 다음과 같이 변화시키자.\n",
    "\n",
    "$$\n",
    "\\frac{S(t_1+\\delta_t)-S(t_1)}{\\delta_{t}}\n",
    "$$\n",
    "\n",
    "이는 $t_1$에서의 $\\delta_t$만큼의 시간 동안의 평균 속도를 계산한 것과 같다. 이때 $\\delta_t$를 $\\infty$로 보내는 극한을 취하면, \n",
    "\n",
    "$$\n",
    "\\lim_{\\delta_t \\rightarrow 0} \\frac{S(t_{1}+\\delta_t)-S(t_1)}{\\delta_{t}}\n",
    "$$\n",
    "\n",
    "미분꼴로 표현할 수 있게 된다."
   ]
  },
  {
   "cell_type": "code",
   "execution_count": 19,
   "metadata": {
    "collapsed": true
   },
   "outputs": [],
   "source": [
    "from sympy import Symbol, Limit\n",
    "t = Symbol('t')\n",
    "St = 5*t**2+2*t+8"
   ]
  },
  {
   "cell_type": "code",
   "execution_count": 20,
   "metadata": {
    "collapsed": true
   },
   "outputs": [],
   "source": [
    "t1 = Symbol('t1')\n",
    "delta_t = Symbol('delta_t')"
   ]
  },
  {
   "cell_type": "code",
   "execution_count": 21,
   "metadata": {
    "collapsed": true
   },
   "outputs": [],
   "source": [
    "St1 = St.subs({t: t1}) # St함수에서 t에 t1을 대입\n",
    "St1_delta = St.subs({t: t1 + delta_t})"
   ]
  },
  {
   "cell_type": "code",
   "execution_count": 22,
   "metadata": {
    "collapsed": false
   },
   "outputs": [
    {
     "name": "stdout",
     "output_type": "stream",
     "text": [
      "2*delta_t + 2*t1 + 5*(delta_t + t1)**2 + 8\n"
     ]
    }
   ],
   "source": [
    "print St1_delta"
   ]
  },
  {
   "cell_type": "code",
   "execution_count": 23,
   "metadata": {
    "collapsed": false
   },
   "outputs": [
    {
     "name": "stdout",
     "output_type": "stream",
     "text": [
      "10*t1 + 2\n"
     ]
    }
   ],
   "source": [
    "print Limit((St1_delta - St1)/delta_t, delta_t, 0).doit()"
   ]
  },
  {
   "cell_type": "markdown",
   "metadata": {},
   "source": [
    "## 함수의 미분\n",
    "\n",
    "* 이걸 쫌더 편하게 해보자"
   ]
  },
  {
   "cell_type": "code",
   "execution_count": 24,
   "metadata": {
    "collapsed": false
   },
   "outputs": [
    {
     "data": {
      "text/plain": [
       "Derivative(5*t**2 + 2*t + 8, t)"
      ]
     },
     "execution_count": 24,
     "metadata": {},
     "output_type": "execute_result"
    }
   ],
   "source": [
    "from sympy import Symbol, Derivative\n",
    "Derivative(St, t)"
   ]
  },
  {
   "cell_type": "code",
   "execution_count": 25,
   "metadata": {
    "collapsed": false
   },
   "outputs": [
    {
     "name": "stdout",
     "output_type": "stream",
     "text": [
      "10*t + 2\n"
     ]
    }
   ],
   "source": [
    "d = Derivative(St, t)\n",
    "print d.doit()"
   ]
  },
  {
   "cell_type": "code",
   "execution_count": null,
   "metadata": {
    "collapsed": false
   },
   "outputs": [],
   "source": [
    "print d.doit().subs({t:t1})"
   ]
  },
  {
   "cell_type": "code",
   "execution_count": 26,
   "metadata": {
    "collapsed": false
   },
   "outputs": [
    {
     "name": "stdout",
     "output_type": "stream",
     "text": [
      "12\n"
     ]
    }
   ],
   "source": [
    "print d.doit().subs({t:1})"
   ]
  },
  {
   "cell_type": "markdown",
   "metadata": {},
   "source": [
    "* Problem!!\n",
    "\n",
    "$$ (x^3+x^2+x) (x^2+x) $$"
   ]
  },
  {
   "cell_type": "code",
   "execution_count": 27,
   "metadata": {
    "collapsed": false
   },
   "outputs": [
    {
     "name": "stdout",
     "output_type": "stream",
     "text": [
      "(2*x + 1)*(x**3 + x**2 + x) + (x**2 + x)*(3*x**2 + 2*x + 1)\n"
     ]
    }
   ],
   "source": [
    "from sympy import Symbol, Derivative, sympify, pprint\n",
    "from sympy.core.sympify import SympifyError\n",
    "x = Symbol('x')\n",
    "f = (x**3+x**2+x)*(x**2+x)\n",
    "print Derivative(f, x, 3).doit()\n"
   ]
  },
  {
   "cell_type": "markdown",
   "metadata": {},
   "source": [
    "* Problem\n",
    "$$\n",
    "\\frac{\\partial f}{\\partial x} = 2y + y^2\n",
    "$$"
   ]
  },
  {
   "cell_type": "markdown",
   "metadata": {},
   "source": [
    "## 고차 미분과 최대, 최소값 구하기\n",
    "\n",
    "1차 미분과 2차 미분의 결과를 이용하여 최대값과 최소값을 구하는 방식에 대한 것이다."
   ]
  },
  {
   "cell_type": "code",
   "execution_count": null,
   "metadata": {
    "collapsed": true
   },
   "outputs": [],
   "source": [
    "%matplotlib inline"
   ]
  },
  {
   "cell_type": "code",
   "execution_count": null,
   "metadata": {
    "collapsed": true
   },
   "outputs": [],
   "source": [
    "import matplotlib.pyplot as plt\n",
    "import numpy as np"
   ]
  },
  {
   "cell_type": "code",
   "execution_count": null,
   "metadata": {
    "collapsed": false
   },
   "outputs": [],
   "source": [
    "x = np.linspace(-5,5,1000)\n",
    "y = x**5-30*x**3+50*x"
   ]
  },
  {
   "cell_type": "code",
   "execution_count": null,
   "metadata": {
    "collapsed": false
   },
   "outputs": [],
   "source": [
    "plt.plot(x, y)"
   ]
  },
  {
   "cell_type": "code",
   "execution_count": null,
   "metadata": {
    "collapsed": true
   },
   "outputs": [],
   "source": [
    "from sympy import Symbol, solve, Derivative\n",
    "x = Symbol('x')\n",
    "f = x**5 - 30*x**3+50*x\n",
    "d1 = Derivative(f, x).doit()"
   ]
  },
  {
   "cell_type": "markdown",
   "metadata": {},
   "source": [
    "$f'(x)=0$을 계산해보자"
   ]
  },
  {
   "cell_type": "code",
   "execution_count": null,
   "metadata": {
    "collapsed": true
   },
   "outputs": [],
   "source": [
    "critical_points = solve(d1)"
   ]
  },
  {
   "cell_type": "code",
   "execution_count": null,
   "metadata": {
    "collapsed": false
   },
   "outputs": [],
   "source": [
    "print critical_points"
   ]
  },
  {
   "cell_type": "code",
   "execution_count": null,
   "metadata": {
    "collapsed": true
   },
   "outputs": [],
   "source": [
    "d2 = Derivative(f, x, 2).doit() # 2차 미분"
   ]
  },
  {
   "cell_type": "code",
   "execution_count": null,
   "metadata": {
    "collapsed": false
   },
   "outputs": [],
   "source": [
    "for val in critical_points:\n",
    "    print d2.subs({x:val}).evalf() # evaluation"
   ]
  },
  {
   "cell_type": "code",
   "execution_count": null,
   "metadata": {
    "collapsed": false
   },
   "outputs": [],
   "source": [
    "for val in critical_points:\n",
    "    print f.subs({x:val}).evalf() # evaluation"
   ]
  },
  {
   "cell_type": "markdown",
   "metadata": {},
   "source": [
    "## Gradient Ascent를 이용한 전역 최대값 알아내기\n",
    "\n",
    "* 반복적으로 수행하는 접근법\n",
    "\n",
    "$$\n",
    "t_{flight}=2 \\frac{u \\sin{\\theta}}{g} \\\\\n",
    "R=u\\cos{\\theta} \\times \\frac{2u\\sin{\\theta}}{g}=\\frac{u^2 \\sin{2 \\theta}}{g}\n",
    "$$\n",
    "\n",
    "$$\n",
    "\\theta_{new} = \\theta_{old} + \\lambda \\frac{dR}{d \\theta}\n",
    "$$\n",
    "\n",
    "을 이용한다."
   ]
  },
  {
   "cell_type": "markdown",
   "metadata": {},
   "source": [
    "1. 앞의 방정식을 이용해 $\\theta_{new}$를 계산한다.\n",
    "2. $\\theta_{new} - \\theta_{old}$ 절대차이가 값 $\\epsilon$보다 크다면, $\\theta_{old}=\\theta_{new}$라고 설정하고 1단계로 리턴한다. 그렇지 않다면 3단계로 간다.\n",
    "3. $\\theta_{new}$는 $\\theta$의 추정값으로 이 값에 대해 R은 최대값을 갖는다."
   ]
  },
  {
   "cell_type": "code",
   "execution_count": null,
   "metadata": {
    "collapsed": false
   },
   "outputs": [],
   "source": [
    "import math\n",
    "from sympy import Derivative, Symbol, sin\n",
    "\n",
    "def grad_ascent(x0, f1x, x):\n",
    "    epsilon = 1e-6\n",
    "    step_size = 1e-4\n",
    "    x_old = x0\n",
    "    x_new = x_old + step_size * f1x.subs({x:x_old}).evalf()\n",
    "    while abs(x_old - x_new) > epsilon:\n",
    "        x_old = x_new\n",
    "        x_new = x_old + step_size * f1x.subs({x:x_old}).evalf()\n",
    "        \n",
    "    return x_new\n",
    "\n",
    "def find_max_theta(R, theta):\n",
    "    R1theta = Derivative(R, theta).doit()\n",
    "    theta0 = -2\n",
    "    theta_max = grad_ascent(theta0, R1theta, theta)\n",
    "    return theta_max\n",
    "\n",
    "g = 9.8\n",
    "u = 25\n",
    "theta = Symbol('theta')\n",
    "R = (u**2)*sin(2*theta)/g\n",
    "\n",
    "theta_max = find_max_theta(R, theta)\n",
    "print math.degrees(theta_max)\n",
    "print R.subs({theta:theta_max})"
   ]
  },
  {
   "cell_type": "code",
   "execution_count": null,
   "metadata": {
    "collapsed": false
   },
   "outputs": [],
   "source": [
    "#P193: This is the program corresponding to Figure 7-5\n",
    "'''\n",
    "Find the angle at which the projectile has maximum range for\n",
    "a fixed velocty, u. This also shows the intermediate points.\n",
    "'''\n",
    "\n",
    "import math\n",
    "import matplotlib.pyplot as plt\n",
    "from sympy import Derivative, Symbol, sin, cos, solve\n",
    "\n",
    "def plot_range_theta(u):\n",
    "    g = 9.8\n",
    "    angles = range(0, 90, 1)\n",
    "    R = [u**2*math.sin(math.radians(2*angle))/g for angle in angles]\n",
    "    plt.plot(angles, R)\n",
    "    # Use LaTex for the X-axis label\n",
    "    #plt.rc('text', usetex=True)\n",
    "    plt.plot(angles, R)\n",
    "    #plt.xlabel(r'$\\theta$ : Angle of projection (degrees)')\n",
    "    plt.ylabel('R: Distance traveled by projectile (meters)')\n",
    "\n",
    "def grad_ascent(x0, f1x):\n",
    "    theta = Symbol('theta')\n",
    "    epsilon =  1e-6\n",
    "    step_size = 1e-4\n",
    "    x_old = x0\n",
    "    x_new = x_old + step_size*f1x.subs({theta:x_old}).evalf()\n",
    "\n",
    "    X = []\n",
    "    while abs(x_old - x_new) > epsilon:\n",
    "        X.append(x_new)\n",
    "        x_old = x_new\n",
    "        x_new = x_old + step_size*f1x.subs({theta:x_old}).evalf()\n",
    "\n",
    "    return x_new, X\n",
    "\n",
    "def find_max_theta(R, theta):\n",
    "    # Calculate the first derivative\n",
    "    R1theta = Derivative(R, theta).doit()\n",
    "    theta0 = 1e-3\n",
    "    theta_max, X = grad_ascent(0.001, R1theta)\n",
    "    return math.degrees(theta_max.evalf()), X\n",
    "\n",
    "if __name__ == '__main__':\n",
    "    g = 9.8\n",
    "    # Assume initial velocity\n",
    "    u = 25\n",
    "    plot_range_theta(u)\n",
    "    theta = Symbol('theta')\n",
    "    # Expression for range\n",
    "    R = u**2*sin(2*theta)/g\n",
    "    theta_max, X = find_max_theta(R, theta)\n",
    "\n",
    "    # calculate R for all theta's traversed\n",
    "    Y = [u**2*math.sin(2*angle)/g for angle in X]\n",
    "    X = [math.degrees(angle) for angle in X]\n",
    "    plt.plot(X, Y, 'ro')\n",
    "    plt.show()\n",
    "    print('Theta: {0}, Max. Range: {1}'.format(theta_max, R.subs({theta:theta_max})))"
   ]
  },
  {
   "cell_type": "code",
   "execution_count": null,
   "metadata": {
    "collapsed": true
   },
   "outputs": [],
   "source": []
  },
  {
   "cell_type": "markdown",
   "metadata": {},
   "source": [
    "## 초기값에 대한 경고\n",
    "\n",
    "* 그래디언트 상승의 반복을 시작할 변수의 초기값은 알고리즘에서 매우 중요한 역할을 한다.\n"
   ]
  },
  {
   "cell_type": "code",
   "execution_count": null,
   "metadata": {
    "collapsed": false
   },
   "outputs": [],
   "source": [
    "import math\n",
    "from sympy import Derivative, Symbol, sin\n",
    "\n",
    "def grad_ascent(x0, f1x, x):\n",
    "    epsilon = 1e-6\n",
    "    step_size = 1e-4\n",
    "    x_old = x0\n",
    "    x_new = x_old + step_size * f1x.subs({x:x_old}).evalf()\n",
    "    while abs(x_old - x_new) > epsilon:\n",
    "        x_old = x_new\n",
    "        x_new = x_old + step_size * f1x.subs({x:x_old}).evalf()\n",
    "        \n",
    "    return x_new\n",
    "\n",
    "def find_max_theta(R, theta):\n",
    "    R1theta = Derivative(R, theta).doit()\n",
    "    theta0 = 0.5\n",
    "    theta_max = grad_ascent(theta0, R1theta, theta)\n",
    "    return theta_max\n",
    "\n",
    "x = Symbol('x')\n",
    "R = x**5 - 30*x**3 + 50*x\n",
    "\n",
    "theta_max = find_max_theta(R, x)\n",
    "print R.subs({x:theta_max})"
   ]
  },
  {
   "cell_type": "code",
   "execution_count": null,
   "metadata": {
    "collapsed": false
   },
   "outputs": [],
   "source": [
    "#P193: This is the program corresponding to Figure 7-5\n",
    "'''\n",
    "Find the angle at which the projectile has maximum range for\n",
    "a fixed velocty, u. This also shows the intermediate points.\n",
    "'''\n",
    "\n",
    "import numpy as np\n",
    "import math\n",
    "import matplotlib.pyplot as plt\n",
    "from sympy import Derivative, Symbol, sin, cos, solve\n",
    "\n",
    "def plot_range_theta(u):\n",
    "    g = 9.8\n",
    "    angles = range(0, 90, 1)\n",
    "    R = [u**2*math.sin(math.radians(2*angle))/g for angle in angles]\n",
    "    plt.plot(angles, R)\n",
    "    # Use LaTex for the X-axis label\n",
    "    #plt.rc('text', usetex=True)\n",
    "    plt.plot(angles, R)\n",
    "    #plt.xlabel(r'$\\theta$ : Angle of projection (degrees)')\n",
    "    plt.ylabel('R: Distance traveled by projectile (meters)')\n",
    "\n",
    "def grad_ascent(x0, f1x):\n",
    "    theta = Symbol('theta')\n",
    "    epsilon = 1e-6\n",
    "    step_size = 1e-4\n",
    "    x_old = x0\n",
    "    x_new = x_old + step_size*f1x.subs({x:x_old}).evalf()\n",
    "\n",
    "    X = []\n",
    "    while abs(x_old - x_new) > epsilon:\n",
    "        X.append(x_new)\n",
    "        x_old = x_new\n",
    "        x_new = x_old + step_size*f1x.subs({x:x_old}).evalf()\n",
    "\n",
    "    return x_new, X\n",
    "\n",
    "def find_max_theta(R, theta):\n",
    "    # Calculate the first derivative\n",
    "    R1theta = Derivative(R, theta).doit()\n",
    "    theta0 = -2\n",
    "    theta_max, X = grad_ascent(theta0, R1theta)\n",
    "    return theta_max.evalf(), X\n",
    "\n",
    "x = Symbol('x')\n",
    "R = x**5 - 30*x**3 + 50*x\n",
    "R_max, X = find_max_theta(R, x)\n",
    "\n",
    "X = np.linspace(-5, 5, 1000)\n",
    "Y = X**5 - 30*X**3 + 50*X\n",
    "plt.plot(X, Y)\n",
    "\n",
    "# calculate R for all theta's traversed\n",
    "Y = [angle**5 - 30*angle**3 + 50*angle for angle in X]\n",
    "X = [angle for angle in X]\n",
    "plt.plot(X, Y, 'ro')"
   ]
  },
  {
   "cell_type": "markdown",
   "metadata": {},
   "source": [
    "## 단계 크기와 입실론의 역할\n",
    "\n",
    "* $\\lambda$는 Step Size를 적절히 설정해주어야 한다.\n",
    "* 만일 이 크기가 작다면, 검색할때 천천히 찾아갈 것이고, 만일 이 크기가 크다면, 듬성 듬성 찾아가서 정답을 지나칠수도 있다.\n",
    "* 알고리즘의 반복을 중단할 시점은 $\\epsilon$으로 표현하는데, x의 값이 변하지 않음을 입증할 만큼 충분히 작은 값이어야 한다.\n",
    "* 여기서는 $10^-6$을 사용했다.\n",
    "* $f'(x)=0$의 해가 존재해야, 해를 찾을 수 있다. \n"
   ]
  },
  {
   "cell_type": "markdown",
   "metadata": {},
   "source": [
    "## 함수의 적분 계산"
   ]
  },
  {
   "cell_type": "code",
   "execution_count": 33,
   "metadata": {
    "collapsed": false
   },
   "outputs": [],
   "source": [
    "%matplotlib inline\n",
    "import numpy as np\n",
    "import matplotlib.pyplot as plt"
   ]
  },
  {
   "cell_type": "markdown",
   "metadata": {},
   "source": []
  },
  {
   "cell_type": "code",
   "execution_count": 34,
   "metadata": {
    "collapsed": false
   },
   "outputs": [
    {
     "data": {
      "text/plain": [
       "[<matplotlib.lines.Line2D at 0x10a934c90>]"
      ]
     },
     "execution_count": 34,
     "metadata": {},
     "output_type": "execute_result"
    },
    {
     "data": {
      "image/png": "[encoded data removed]",
      "text/plain": [
       "<matplotlib.figure.Figure at 0x109b587d0>"
      ]
     },
     "metadata": {},
     "output_type": "display_data"
    }
   ],
   "source": [
    "x = np.linspace(0, 5, 1000)\n",
    "y = x\n",
    "plt.plot(x, y)"
   ]
  },
  {
   "cell_type": "code",
   "execution_count": 35,
   "metadata": {
    "collapsed": false
   },
   "outputs": [
    {
     "data": {
      "text/plain": [
       "Integral(k*x, x)"
      ]
     },
     "execution_count": 35,
     "metadata": {},
     "output_type": "execute_result"
    }
   ],
   "source": [
    "from sympy import Integral, Symbol\n",
    "x = Symbol('x')\n",
    "k = Symbol('k')\n",
    "Integral(k*x, x)"
   ]
  },
  {
   "cell_type": "code",
   "execution_count": 36,
   "metadata": {
    "collapsed": false
   },
   "outputs": [
    {
     "name": "stdout",
     "output_type": "stream",
     "text": [
      "k*x**2/2\n"
     ]
    }
   ],
   "source": [
    "print Integral(k*x, x).doit()"
   ]
  },
  {
   "cell_type": "markdown",
   "metadata": {},
   "source": [
    "$$\n",
    "\\int_{0}^{2} k x dx = ?\n",
    "$$"
   ]
  },
  {
   "cell_type": "code",
   "execution_count": 37,
   "metadata": {
    "collapsed": false
   },
   "outputs": [
    {
     "name": "stdout",
     "output_type": "stream",
     "text": [
      "2*k\n"
     ]
    }
   ],
   "source": [
    "print Integral(k*x, (x, 0, 2)).doit()"
   ]
  },
  {
   "cell_type": "markdown",
   "metadata": {},
   "source": [
    "하지만 모든 함수에 대해서 부정적분을 항상 가능한 것은 아니다!!"
   ]
  },
  {
   "cell_type": "markdown",
   "metadata": {},
   "source": []
  }
 ],
 "metadata": {
  "kernelspec": {
   "display_name": "Python 2",
   "language": "python",
   "name": "python2"
  },
  "language_info": {
   "codemirror_mode": {
    "name": "ipython",
    "version": 2
   },
   "file_extension": ".py",
   "mimetype": "text/x-python",
   "name": "python",
   "nbconvert_exporter": "python",
   "pygments_lexer": "ipython2",
   "version": "2.7.12"
  }
 },
 "nbformat": 4,
 "nbformat_minor": 0
}
