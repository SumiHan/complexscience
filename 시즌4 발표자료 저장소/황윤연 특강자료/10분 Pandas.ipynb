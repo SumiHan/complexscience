{
 "cells": [
  {
   "cell_type": "markdown",
   "metadata": {},
   "source": [
    "# pandas ..."
   ]
  },
  {
   "cell_type": "markdown",
   "metadata": {},
   "source": [
    ".. is a Python package providing fast, flexible, and expressive data structures designed to make working with “relational” or “labeled” data both easy and intuitive. It aims to be the fundamental high-level building block for doing practical, real world data analysis in Python. Additionally, it has the broader goal of becoming the most powerful and flexible open source data analysis / manipulation tool available in any language. It is already well on its way toward this goal."
   ]
  },
  {
   "cell_type": "markdown",
   "metadata": {},
   "source": [
    "# 10분짜리 Pandas 따라하기"
   ]
  },
  {
   "cell_type": "markdown",
   "metadata": {},
   "source": [
    "http://pandas.pydata.org/pandas-docs/stable/10min.html"
   ]
  },
  {
   "cell_type": "raw",
   "metadata": {},
   "source": [
    "In [1]: import pandas as pd\n",
    "\n",
    "In [2]: import numpy as np\n",
    "\n",
    "In [3]: import matplotlib.pyplot as plt"
   ]
  },
  {
   "cell_type": "markdown",
   "metadata": {},
   "source": [
    "- pandas를 구동 하기 위한 기본 imclude 들이다.  \n",
    "- ipython 이나 jupyter를 이용하기 때문에, %pylab 명령을 이용하여 2번째, 3번째 과정을 생략하기도 한다.  \n",
    "- pandas 내부는 C로 컴파일 되어 있고, 연산속도 가속을 위하여 일부 명령에 GIL 해제 하기도 한다\n"
   ]
  },
  {
   "cell_type": "markdown",
   "metadata": {},
   "source": [
    "## 객체 생성"
   ]
  },
  {
   "cell_type": "raw",
   "metadata": {},
   "source": [
    "In [4]: s = pd.Series([1,3,5,np.nan,6,8])\n",
    "\n",
    "In [5]: s\n",
    "Out[5]: \n",
    "0    1.0\n",
    "1    3.0\n",
    "2    5.0\n",
    "3    NaN\n",
    "4    6.0\n",
    "5    8.0\n",
    "dtype: float64"
   ]
  },
  {
   "cell_type": "markdown",
   "metadata": {},
   "source": [
    "판다스는 기본 Series라는 단위로 이루어져 있고,  \n",
    "Index와 Data로 이루어진 1차원 데이터다  \n",
    "입력이 가능한 데이터형은 Python object 구체적인 제약은 없다.\n",
    "\n",
    "list형, ndarray, dict 형을 주로 쓰는데, dict형은 key가 Index로 차용된다\n",
    "\n"
   ]
  },
  {
   "cell_type": "raw",
   "metadata": {},
   "source": [
    "In [6]: dates = pd.date_range('20130101', periods=6)\n",
    "\n",
    "In [7]: dates\n",
    "Out[7]: \n",
    "DatetimeIndex(['2013-01-01', '2013-01-02', '2013-01-03', '2013-01-04',\n",
    "               '2013-01-05', '2013-01-06'],\n",
    "              dtype='datetime64[ns]', freq='D')\n",
    "\n",
    "In [8]: df = pd.DataFrame(np.random.randn(6,4), index=dates, columns=list('ABCD'))\n",
    "\n",
    "In [9]: df\n",
    "Out[9]: \n",
    "                   A         B         C         D\n",
    "2013-01-01  0.469112 -0.282863 -1.509059 -1.135632\n",
    "2013-01-02  1.212112 -0.173215  0.119209 -1.044236\n",
    "2013-01-03 -0.861849 -2.104569 -0.494929  1.071804\n",
    "2013-01-04  0.721555 -0.706771 -1.039575  0.271860\n",
    "2013-01-05 -0.424972  0.567020  0.276232 -1.087401\n",
    "2013-01-06 -0.673690  0.113648 -1.478427  0.524988"
   ]
  },
  {
   "cell_type": "markdown",
   "metadata": {},
   "source": [
    "DataFrame은 Series가 병렬로 전개 되어 있는 형태이고,   \n",
    "R 의 data.frame 과 유사 기능을 한다   \n",
    "판다스 내부에 TimeSeries 데이터형이 내장 되어 있어, 시계열 분석에 Index를 제공하기도 한다"
   ]
  },
  {
   "cell_type": "raw",
   "metadata": {},
   "source": [
    "In [10]: df2 = pd.DataFrame({ 'A' : 1.,\n",
    "   ....:                      'B' : pd.Timestamp('20130102'),\n",
    "   ....:                      'C' : pd.Series(1,index=list(range(4)),dtype='float32'),\n",
    "   ....:                      'D' : np.array([3] * 4,dtype='int32'),\n",
    "   ....:                      'E' : pd.Categorical([\"test\",\"train\",\"test\",\"train\"]),\n",
    "   ....:                      'F' : 'foo' })\n",
    "   ....: \n",
    "\n",
    "In [11]: df2\n",
    "Out[11]: \n",
    "     A          B    C  D      E    F\n",
    "0  1.0 2013-01-02  1.0  3   test  foo\n",
    "1  1.0 2013-01-02  1.0  3  train  foo\n",
    "2  1.0 2013-01-02  1.0  3   test  foo\n",
    "3  1.0 2013-01-02  1.0  3  train  foo"
   ]
  },
  {
   "cell_type": "markdown",
   "metadata": {},
   "source": [
    "DataFrame에서 Dict를 초기 데이터로 넘길 때는 key가 Column 역할을 한다  \n",
    "각 데이터의 길이가 다를 경우에는,  \n",
    "길이가 짧은 경우 None 으로 처리 되거나,   \n",
    "혹은 특정 값으로 복사 전개 시키는 것이 일반적이고,  \n",
    "나중에, 비어있는 자료는 해당 Index 행을 삭제하거나, 각종 보간 함수들을 이용할 수 있다\n",
    "\n",
    "\n",
    "\n"
   ]
  },
  {
   "cell_type": "raw",
   "metadata": {},
   "source": [
    "In [12]: df2.dtypes\n",
    "Out[12]: \n",
    "A           float64\n",
    "B    datetime64[ns]\n",
    "C           float32\n",
    "D             int32\n",
    "E          category\n",
    "F            object\n",
    "dtype: object"
   ]
  },
  {
   "cell_type": "markdown",
   "metadata": {},
   "source": [
    "데이터형을 생성 당시 명시하지 않으면 \"object\"로 간주한다  \n",
    "그러나 실제 연산을 수행할 때, 자동으로 type을 판단하여 진행한다 \n",
    "\n",
    "\n",
    "\n"
   ]
  },
  {
   "cell_type": "markdown",
   "metadata": {},
   "source": [
    "## 데이터 훑어보기"
   ]
  },
  {
   "cell_type": "raw",
   "metadata": {},
   "source": [
    "In [14]: df.head()\n",
    "Out[14]: \n",
    "                   A         B         C         D\n",
    "2013-01-01  0.469112 -0.282863 -1.509059 -1.135632\n",
    "2013-01-02  1.212112 -0.173215  0.119209 -1.044236\n",
    "2013-01-03 -0.861849 -2.104569 -0.494929  1.071804\n",
    "2013-01-04  0.721555 -0.706771 -1.039575  0.271860\n",
    "2013-01-05 -0.424972  0.567020  0.276232 -1.087401\n",
    "\n",
    "In [15]: df.tail(3)\n",
    "Out[15]: \n",
    "                   A         B         C         D\n",
    "2013-01-04  0.721555 -0.706771 -1.039575  0.271860\n",
    "2013-01-05 -0.424972  0.567020  0.276232 -1.087401\n",
    "2013-01-06 -0.673690  0.113648 -1.478427  0.524988"
   ]
  },
  {
   "cell_type": "markdown",
   "metadata": {},
   "source": [
    "데이터를 CSV나, Excel로 부터 시작했다면,   \n",
    "처음에 어떠한 종류의 데이터들이 있는지 간단하게 볼 필요가 있다.\n",
    "\n",
    "head(),tail()로 간단하게 시작 데이터와 끝 데이터를 볼 수 있다"
   ]
  },
  {
   "cell_type": "raw",
   "metadata": {},
   "source": [
    "In [16]: df.index\n",
    "Out[16]: \n",
    "DatetimeIndex(['2013-01-01', '2013-01-02', '2013-01-03', '2013-01-04',\n",
    "               '2013-01-05', '2013-01-06'],\n",
    "              dtype='datetime64[ns]', freq='D')\n",
    "\n",
    "In [17]: df.columns\n",
    "Out[17]: Index([u'A', u'B', u'C', u'D'], dtype='object')\n",
    "\n",
    "In [18]: df.values\n",
    "Out[18]: \n",
    "array([[ 0.4691, -0.2829, -1.5091, -1.1356],\n",
    "       [ 1.2121, -0.1732,  0.1192, -1.0442],\n",
    "       [-0.8618, -2.1046, -0.4949,  1.0718],\n",
    "       [ 0.7216, -0.7068, -1.0396,  0.2719],\n",
    "       [-0.425 ,  0.567 ,  0.2762, -1.0874],\n",
    "       [-0.6737,  0.1136, -1.4784,  0.525 ]])\n",
    "\n",
    "In [19]: df.describe()\n",
    "Out[19]: \n",
    "              A         B         C         D\n",
    "count  6.000000  6.000000  6.000000  6.000000\n",
    "mean   0.073711 -0.431125 -0.687758 -0.233103\n",
    "std    0.843157  0.922818  0.779887  0.973118\n",
    "min   -0.861849 -2.104569 -1.509059 -1.135632\n",
    "25%   -0.611510 -0.600794 -1.368714 -1.076610\n",
    "50%    0.022070 -0.228039 -0.767252 -0.386188\n",
    "75%    0.658444  0.041933 -0.034326  0.461706\n",
    "max    1.212112  0.567020  0.276232  1.071804"
   ]
  },
  {
   "cell_type": "markdown",
   "metadata": {},
   "source": [
    "또한 index, columns, values를 통해, Dataframe의 간단한 구성을 살펴 볼 수 있다  \n",
    "describe()로 데이터의 분포를 빠르게 확인할 수 있다"
   ]
  },
  {
   "cell_type": "markdown",
   "metadata": {},
   "source": [
    "## 데이터 인덱싱"
   ]
  },
  {
   "cell_type": "raw",
   "metadata": {},
   "source": [
    "In [23]: df['A']\n",
    "Out[23]: \n",
    "2013-01-01    0.469112\n",
    "2013-01-02    1.212112\n",
    "2013-01-03   -0.861849\n",
    "2013-01-04    0.721555\n",
    "2013-01-05   -0.424972\n",
    "2013-01-06   -0.673690\n",
    "Freq: D, Name: A, dtype: float64"
   ]
  },
  {
   "cell_type": "markdown",
   "metadata": {},
   "source": [
    "Dataframe 중 특정 Column을 선별할 때,  \n",
    "dictionary 처럼 데이터를 가져올 수 있고,\n",
    "속성 처럼 가져올 수 있다. (예 \"df.A\")"
   ]
  },
  {
   "cell_type": "raw",
   "metadata": {},
   "source": [
    "In [24]: df[0:3]\n",
    "Out[24]: \n",
    "                   A         B         C         D\n",
    "2013-01-01  0.469112 -0.282863 -1.509059 -1.135632\n",
    "2013-01-02  1.212112 -0.173215  0.119209 -1.044236\n",
    "2013-01-03 -0.861849 -2.104569 -0.494929  1.071804\n",
    "\n",
    "In [25]: df['20130102':'20130104']\n",
    "Out[25]: \n",
    "                   A         B         C         D\n",
    "2013-01-02  1.212112 -0.173215  0.119209 -1.044236\n",
    "2013-01-03 -0.861849 -2.104569 -0.494929  1.071804\n",
    "2013-01-04  0.721555 -0.706771 -1.039575  0.271860"
   ]
  },
  {
   "cell_type": "markdown",
   "metadata": {},
   "source": [
    "여러 데이터를 가져올 때는, 기본으로 row를 select 한다"
   ]
  },
  {
   "cell_type": "raw",
   "metadata": {},
   "source": [
    "In [28]: df.loc['20130102':'20130104',['A','B']]\n",
    "Out[28]: \n",
    "                   A         B\n",
    "2013-01-02  1.212112 -0.173215\n",
    "2013-01-03 -0.861849 -2.104569\n",
    "2013-01-04  0.721555 -0.706771\n",
    "\n",
    "In [36]: df.iloc[:,1:3]\n",
    "Out[36]: \n",
    "                   B         C\n",
    "2013-01-01 -0.282863 -1.509059\n",
    "2013-01-02 -0.173215  0.119209\n",
    "2013-01-03 -2.104569 -0.494929\n",
    "2013-01-04 -0.706771 -1.039575\n",
    "2013-01-05  0.567020  0.276232\n",
    "2013-01-06  0.113648 -1.478427"
   ]
  },
  {
   "cell_type": "markdown",
   "metadata": {},
   "source": [
    "특정 Col, Row를 Index로 이용하려면,\n",
    "- 라벨 index : df.loc [row1:row2, col1:col2]\n",
    "- 위치 index : df.iloc[row1:row2, col1:col2] "
   ]
  },
  {
   "cell_type": "raw",
   "metadata": {},
   "source": [
    "In [39]: df[df.A > 0]\n",
    "Out[39]: \n",
    "                   A         B         C         D\n",
    "2013-01-01  0.469112 -0.282863 -1.509059 -1.135632\n",
    "2013-01-02  1.212112 -0.173215  0.119209 -1.044236\n",
    "2013-01-04  0.721555 -0.706771 -1.039575  0.271860\n",
    "\n",
    "In [40]: df[df > 0]\n",
    "Out[40]: \n",
    "                   A         B         C         D\n",
    "2013-01-01  0.469112       NaN       NaN       NaN\n",
    "2013-01-02  1.212112       NaN  0.119209       NaN\n",
    "2013-01-03       NaN       NaN       NaN  1.071804\n",
    "2013-01-04  0.721555       NaN       NaN  0.271860\n",
    "2013-01-05       NaN  0.567020  0.276232       NaN\n",
    "2013-01-06       NaN  0.113648       NaN  0.524988"
   ]
  },
  {
   "cell_type": "markdown",
   "metadata": {},
   "source": [
    "numpy 에서 이용하는 boolean indexing도 적용할 수 있다"
   ]
  },
  {
   "cell_type": "markdown",
   "metadata": {},
   "source": [
    "## 데이터 입력"
   ]
  },
  {
   "cell_type": "raw",
   "metadata": {},
   "source": [
    "In [45]: s1 = pd.Series([1,2,3,4,5,6], index=pd.date_range('20130102', periods=6))\n",
    "\n",
    "In [46]: s1\n",
    "Out[46]: \n",
    "2013-01-02    1\n",
    "2013-01-03    2\n",
    "2013-01-04    3\n",
    "2013-01-05    4\n",
    "2013-01-06    5\n",
    "2013-01-07    6\n",
    "Freq: D, dtype: int64\n",
    "\n",
    "In [47]: df['F'] = s1"
   ]
  },
  {
   "cell_type": "markdown",
   "metadata": {},
   "source": [
    "새로운 Column을 추가할 때, dictionary, key-value 입력 식으로 추가할 수 있다.\n"
   ]
  },
  {
   "cell_type": "raw",
   "metadata": {},
   "source": [
    "In [48]: df.at[dates[0],'A'] = 0\n",
    "In [49]: df.iat[0,1] = 0\n",
    "In [50]: df.loc[:,'D'] = np.array([5] * len(df))"
   ]
  },
  {
   "cell_type": "markdown",
   "metadata": {},
   "source": [
    "데이터를 특정 label이나 위치에 넣으려 할 때, at, loc, iloc 등을 이용한다"
   ]
  },
  {
   "cell_type": "markdown",
   "metadata": {},
   "source": [
    "## 연산"
   ]
  },
  {
   "cell_type": "raw",
   "metadata": {},
   "source": [
    "In [61]: df.mean()\n",
    "Out[61]: \n",
    "A   -0.004474\n",
    "B   -0.383981\n",
    "C   -0.687758\n",
    "D    5.000000\n",
    "F    3.000000\n",
    "dtype: float64\n",
    "\n",
    "In [62]: df.mean(1)\n",
    "Out[62]: \n",
    "2013-01-01    0.872735\n",
    "2013-01-02    1.431621\n",
    "2013-01-03    0.707731\n",
    "2013-01-04    1.395042\n",
    "2013-01-05    1.883656\n",
    "2013-01-06    1.592306\n",
    "Freq: D, dtype: float64    "
   ]
  },
  {
   "cell_type": "markdown",
   "metadata": {},
   "source": [
    "mean, min, max, median 등등의 함수를 DataFrame, 또는 선정된 Column등에 이용할 수 있다"
   ]
  },
  {
   "cell_type": "raw",
   "metadata": {},
   "source": [
    "In [66]: df.apply(np.cumsum)\n",
    "Out[66]: \n",
    "                   A         B         C   D     F\n",
    "2013-01-01  0.000000  0.000000 -1.509059   5   NaN\n",
    "2013-01-02  1.212112 -0.173215 -1.389850  10   1.0\n",
    "2013-01-03  0.350263 -2.277784 -1.884779  15   3.0\n",
    "2013-01-04  1.071818 -2.984555 -2.924354  20   6.0\n",
    "2013-01-05  0.646846 -2.417535 -2.648122  25  10.0\n",
    "2013-01-06 -0.026844 -2.303886 -4.126549  30  15.0\n",
    "\n",
    "In [67]: df.apply(lambda x: x.max() - x.min())\n",
    "Out[67]: \n",
    "A    2.073961\n",
    "B    2.671590\n",
    "C    1.785291\n",
    "D    0.000000\n",
    "F    4.000000\n",
    "dtype: float64"
   ]
  },
  {
   "cell_type": "markdown",
   "metadata": {},
   "source": [
    "DataFrame이나, Series, 또는 DataFrame내 선별된 데이터에 연산 함수를 변수로 이용 할 수 있다"
   ]
  },
  {
   "cell_type": "markdown",
   "metadata": {},
   "source": [
    "##  Plotting"
   ]
  },
  {
   "cell_type": "raw",
   "metadata": {},
   "source": [
    "\n",
    "In [130]: ts = pd.Series(np.random.randn(1000), index=pd.date_range('1/1/2000', periods=1000))\n",
    "\n",
    "In [131]: ts = ts.cumsum()\n",
    "\n",
    "In [132]: ts.plot()\n",
    "Out[132]: <matplotlib.axes._subplots.AxesSubplot at 0x10efd5a90>"
   ]
  },
  {
   "cell_type": "markdown",
   "metadata": {},
   "source": [
    "DataFrame이나, Series에 .plot()을 붙이면 index에 따라 data를 바로 시각화 한다"
   ]
  },
  {
   "cell_type": "code",
   "execution_count": 19,
   "metadata": {
    "collapsed": false
   },
   "outputs": [
    {
     "name": "stdout",
     "output_type": "stream",
     "text": [
      "Populating the interactive namespace from numpy and matplotlib\n"
     ]
    },
    {
     "data": {
      "text/plain": [
       "<matplotlib.axes._subplots.AxesSubplot at 0x2203a36f4e0>"
      ]
     },
     "execution_count": 19,
     "metadata": {},
     "output_type": "execute_result"
    },
    {
     "data": {
      "image/png": "[encoded data removed]",
      "text/plain": [
       "<matplotlib.figure.Figure at 0x22037c10eb8>"
      ]
     },
     "metadata": {},
     "output_type": "display_data"
    }
   ],
   "source": [
    "%pylab inline\n",
    "import pandas as pd\n",
    "ts = pd.Series(np.random.randn(1000), index=pd.date_range('1/1/2000', periods=1000))\n",
    "ts = ts.cumsum()\n",
    "ts.plot()"
   ]
  },
  {
   "cell_type": "code",
   "execution_count": 20,
   "metadata": {
    "collapsed": false
   },
   "outputs": [
    {
     "data": {
      "text/plain": [
       "<matplotlib.axes._subplots.AxesSubplot at 0x22038fc7d68>"
      ]
     },
     "execution_count": 20,
     "metadata": {},
     "output_type": "execute_result"
    },
    {
     "data": {
      "image/png": "[encoded data removed]",
      "text/plain": [
       "<matplotlib.figure.Figure at 0x22039e89fd0>"
      ]
     },
     "metadata": {},
     "output_type": "display_data"
    }
   ],
   "source": [
    "ts.hist()"
   ]
  },
  {
   "cell_type": "markdown",
   "metadata": {},
   "source": [
    ".hist()를 이용하면 별다른 수고 없이 바로 히스토그램을 얻을 수 있다."
   ]
  },
  {
   "cell_type": "markdown",
   "metadata": {},
   "source": [
    "## Data 읽기, 저장"
   ]
  },
  {
   "cell_type": "markdown",
   "metadata": {},
   "source": [
    "### csv r/w"
   ]
  },
  {
   "cell_type": "raw",
   "metadata": {},
   "source": [
    "In [136]: df.to_csv('foo.csv')\n",
    "\n",
    "In [137]: pd.read_csv('foo.csv')\n",
    "Out[137]: \n",
    "     Unnamed: 0          A          B         C          D\n",
    "0    2000-01-01   0.266457  -0.399641 -0.219582   1.186860\n",
    "1    2000-01-02  -1.170732  -0.345873  1.653061  -0.282953\n",
    "2    2000-01-03  -1.734933   0.530468  2.060811  -0.515536\n",
    "3    2000-01-04  -1.555121   1.452620  0.239859  -1.156896\n",
    "4    2000-01-05   0.578117   0.511371  0.103552  -2.428202\n",
    "5    2000-01-06   0.478344   0.449933 -0.741620  -1.962409\n",
    "6    2000-01-07   1.235339  -0.091757 -1.543861  -1.084753\n",
    "..          ...        ...        ...       ...        ...\n",
    "993  2002-09-20 -10.628548  -9.153563 -7.883146  28.313940\n",
    "994  2002-09-21 -10.390377  -8.727491 -6.399645  30.914107\n",
    "995  2002-09-22  -8.985362  -8.485624 -4.669462  31.367740\n",
    "996  2002-09-23  -9.558560  -8.781216 -4.499815  30.518439\n",
    "997  2002-09-24  -9.902058  -9.340490 -4.386639  30.105593\n",
    "998  2002-09-25 -10.216020  -9.480682 -3.933802  29.758560\n",
    "999  2002-09-26 -11.856774 -10.671012 -3.216025  29.369368\n",
    "\n",
    "[1000 rows x 5 columns]"
   ]
  },
  {
   "cell_type": "markdown",
   "metadata": {},
   "source": [
    "### excel r/w"
   ]
  },
  {
   "cell_type": "raw",
   "metadata": {},
   "source": [
    "In [140]: df.to_excel('foo.xlsx', sheet_name='Sheet1')\n",
    "    \n",
    "In [141]: pd.read_excel('foo.xlsx', 'Sheet1', index_col=None, na_values=['NA'])\n",
    "Out[141]: \n",
    "                    A          B         C          D\n",
    "2000-01-01   0.266457  -0.399641 -0.219582   1.186860\n",
    "2000-01-02  -1.170732  -0.345873  1.653061  -0.282953\n",
    "2000-01-03  -1.734933   0.530468  2.060811  -0.515536\n",
    "2000-01-04  -1.555121   1.452620  0.239859  -1.156896\n",
    "2000-01-05   0.578117   0.511371  0.103552  -2.428202\n",
    "2000-01-06   0.478344   0.449933 -0.741620  -1.962409\n",
    "2000-01-07   1.235339  -0.091757 -1.543861  -1.084753\n",
    "...               ...        ...       ...        ...\n",
    "2002-09-20 -10.628548  -9.153563 -7.883146  28.313940\n",
    "2002-09-21 -10.390377  -8.727491 -6.399645  30.914107\n",
    "2002-09-22  -8.985362  -8.485624 -4.669462  31.367740\n",
    "2002-09-23  -9.558560  -8.781216 -4.499815  30.518439\n",
    "2002-09-24  -9.902058  -9.340490 -4.386639  30.105593\n",
    "2002-09-25 -10.216020  -9.480682 -3.933802  29.758560\n",
    "2002-09-26 -11.856774 -10.671012 -3.216025  29.369368\n",
    "\n",
    "[1000 rows x 4 columns]"
   ]
  },
  {
   "cell_type": "code",
   "execution_count": null,
   "metadata": {
    "collapsed": true
   },
   "outputs": [],
   "source": []
  }
 ],
 "metadata": {
  "anaconda-cloud": {},
  "kernelspec": {
   "display_name": "Python [default]",
   "language": "python",
   "name": "python3"
  },
  "language_info": {
   "codemirror_mode": {
    "name": "ipython",
    "version": 3
   },
   "file_extension": ".py",
   "mimetype": "text/x-python",
   "name": "python",
   "nbconvert_exporter": "python",
   "pygments_lexer": "ipython3",
   "version": "3.5.2"
  }
 },
 "nbformat": 4,
 "nbformat_minor": 1
}
