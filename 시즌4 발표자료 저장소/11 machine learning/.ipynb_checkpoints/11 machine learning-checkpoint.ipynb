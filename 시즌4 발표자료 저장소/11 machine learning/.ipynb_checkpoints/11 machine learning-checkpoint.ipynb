{
 "cells": [
  {
   "cell_type": "markdown",
   "metadata": {
    "collapsed": false
   },
   "source": [
    "# 11 기계학습 "
   ]
  },
  {
   "cell_type": "markdown",
   "metadata": {},
   "source": [
    "## 11.1 모델링"
   ]
  },
  {
   "cell_type": "markdown",
   "metadata": {},
   "source": [
    "모델이란? 모델은 다양한 변수 간의 수학적(혹은 확률적) 관계를 표현한 것이다. \n",
    "\n",
    "\n",
    "예) 소셜 네트워킹을 이용한 수익을 창출하고자 할 때 사용자의 수나 사용자 당 광고 수익 혹은 직원 수 같은 입력 변수로 \n",
    "\n",
    "차후 몇 년 동안의 연간 수익을 예측하는 비즈니스 모델을 만들곤 한다. \n",
    "\n",
    "요리책의 경우 먹는 사람의 수나 배고픈 정도 같은 입력 변수로 재료의 양을 결정하는 모델을 사용한다. "
   ]
  },
  {
   "cell_type": "markdown",
   "metadata": {},
   "source": [
    "## 11.2 기계학습이란?"
   ]
  },
  {
   "cell_type": "markdown",
   "metadata": {},
   "source": [
    "데이터를 통해 모델을 만들고 사용하는 것으로 학습에 사용될 데이터의 정답이 포함되어 있는 지도 학습과 포함되어 있지 않은 비지도 학습을 살펴볼 것이다. \n",
    "\n",
    "많이 사용하는 분야\n",
    "\n",
    "이메일이 스팸메일인지 아닌지\n",
    "\n",
    "신용카드 사기 예측\n",
    "\n",
    "쇼핑 고객이 클릭할 확률이 높은 광고 예측\n",
    "\n",
    "슈퍼볼에서 우승할 미식 축구팀 예측\n",
    "\n",
    "아주 단순한 상황에서도 우리가 사용할 수 있는 모델은 무수히 많다. 일반적으로는 파라미터가 있는 모델을 고른 후 데이터를 통해 파라미터의 최적값을 찾으려고 한다. \n",
    "\n",
    "예) 키와 몸무게는 선형함수로\n",
    "   환자의 병은 의사결정나무로 \n"
   ]
  },
  {
   "cell_type": "markdown",
   "metadata": {},
   "source": [
    "##  오버피팅과 언더피팅                        "
   ]
  },
  {
   "cell_type": "markdown",
   "metadata": {
    "collapsed": true
   },
   "source": [
    "기계학습의 일반적인 문제는 오버피팅이다. 오버피팅이란 만들어진 모델의 성능이 학습 데이터에서는 좋지만 기존에 관측한 적이 없는 새로운 데이터에서는 좋지 않은 경우를 의미한다. \n",
    "\n",
    "이러한 현상은 데이터의 잡음까지 학습되거나 원하는 결과를 예측해 주는 요소가 아닌 요소들이 학습되기 때문에 발생한다. \n",
    "\n",
    "언터피팅은 보통 모델의 성능이 학습 데이터에서도 좋지 않은 경우를 의미한다. 보통 언더피팅이 발생하면 해당 모델은 문제에 적합하지 않다는 것을 의미하며 새로운 모델을 찾아봐야 한다. "
   ]
  },
  {
   "cell_type": "markdown",
   "metadata": {
    "collapsed": true
   },
   "source": [
    "<img src=\"1.png\" width=\"700\"><BR>"
   ]
  },
  {
   "cell_type": "markdown",
   "metadata": {
    "collapsed": true
   },
   "source": [
    "파란색 가로줄은 degree가 0인 다항 함수(상수 함수) 중 표본 데이터에 가장 적합한 함수를 나타낸다. \n",
    "\n",
    "학습 데이터에 상수 함수를 적용하면 심각한 언더피팅이 발생.\n",
    "\n",
    "빨간색 표본 데이터에 가장 적합한 빨간색 9차 함수(파라미터10개)는 정확하게 모든 학습 데이터를 통과하지지만 심각한 오버피팅이 발생\n",
    "\n",
    "초록색이 가장 적합"
   ]
  },
  {
   "cell_type": "markdown",
   "metadata": {
    "collapsed": true
   },
   "source": [
    "가장 적합한 방법은 모델을 나누는 것이다. 예를 들어 전체 데이터의 2/3로 모델을 학습시키고 나머지 1/3로 모델의 성능을 평가한다. "
   ]
  },
  {
   "cell_type": "code",
   "execution_count": 3,
   "metadata": {
    "collapsed": true
   },
   "outputs": [],
   "source": [
    "# data splitting                                                                                                    \n",
    "from collections import Counter\n",
    "import math, random\n",
    "\n",
    "def split_data(data, prob):\n",
    "    \"\"\"split data into fractions [prob, 1 - prob]\"\"\"\n",
    "    results = [], []\n",
    "    for row in data:\n",
    "        results[0 if random.random() < prob else 1].append(row)\n",
    "    return results\n",
    "\n",
    "                                                                                             "
   ]
  },
  {
   "cell_type": "markdown",
   "metadata": {
    "collapsed": true
   },
   "source": [
    "대부분의 경우 입력 변수로 행렬 x 출력 변수로 벡터 y가 주어질 것이다. 이 때 traning data나 test data에 x나 y가 쌍을 이뤄서 들어갈 수 있도록 해야 한다. "
   ]
  },
  {
   "cell_type": "code",
   "execution_count": 4,
   "metadata": {
    "collapsed": true
   },
   "outputs": [],
   "source": [
    "def train_test_split(x, y, test_pct):\n",
    "    data = list(zip(x, y))                        # pair corresponding values\n",
    "    train, test = split_data(data, 1 - test_pct)  # split the dataset of pairs\n",
    "    x_train, y_train = list(zip(*train))          # magical un-zip trick\n",
    "    x_test, y_test = list(zip(*test))\n",
    "    return x_train, x_test, y_train, y_test "
   ]
  },
  {
   "cell_type": "markdown",
   "metadata": {},
   "source": [
    "이 때 다음과 같이 모델을 학습하고 성능을 평가할 수 있다. "
   ]
  },
  {
   "cell_type": "markdown",
   "metadata": {},
   "source": [
    "model = somekindofModel()\n",
    "x_train, y_train, x_test, y_test = train_test_split(xs, ys, 0.33)\n",
    "performance = model.test(x_test, y_test)"
   ]
  },
  {
   "cell_type": "markdown",
   "metadata": {},
   "source": [
    "만약 모델이 학습 데이터에서 오버피팅됐다면 (왁벽히 별개인) 평가 데이터에서 모델의 성능은 좋지 않을 것이다. \n",
    "== 평가 데이터에 대한 성능이 좋은 모델은 오버피팅되지 않았다고 볼 수 있다. "
   ]
  },
  {
   "cell_type": "markdown",
   "metadata": {
    "collapsed": true
   },
   "source": [
    "1.1.4 정확도 "
   ]
  },
  {
   "cell_type": "markdown",
   "metadata": {
    "collapsed": true
   },
   "source": [
    "이 메일은 스팸 메일인가? 저 지원자를 채용해야 하는가에 대한 모델을 만든다고 할 때 4가지 가능성이 있다. "
   ]
  },
  {
   "cell_type": "markdown",
   "metadata": {},
   "source": [
    "<img src=\"2.png\" width=\"700\"><BR>"
   ]
  },
  {
   "cell_type": "markdown",
   "metadata": {
    "collapsed": true
   },
   "source": [
    "<img src=\"true.jpg\" width=\"700\"><BR>"
   ]
  },
  {
   "cell_type": "markdown",
   "metadata": {
    "collapsed": true
   },
   "source": [
    "출처:http://www.nature.com/nrneph/journal/v10/n4/fig_tab/nrneph.2013.281_F1.html"
   ]
  },
  {
   "cell_type": "markdown",
   "metadata": {
    "collapsed": true
   },
   "source": [
    "이름이 LUke인 아이가 백혈병이 걸릴 확률을 계산해 보자. "
   ]
  },
  {
   "cell_type": "markdown",
   "metadata": {},
   "source": [
    "Confusion table을 이용하여 백혈병에 걸릴 확률을 생각해 보자. 최근 동향을 보면 신생아 천명 중 5명에게 Luke라는 이름을 지어준다. \n",
    "\n",
    "그리고 사람이 살면서 백혈병에 걸릴 확률은 1.4%이므로 14명이 백혈병에 걸린다. \n",
    "\n",
    "만약에 이 두 가지 요소가 독립적이라고 가정하고 가정하고 \n",
    "\n",
    "루크라는 이름을 가진 사람은 백혈병에 걸린다라는 판독 방법을 백만명에게 다음과 같은 혼동행렬을 얻을 수 있다. "
   ]
  },
  {
   "cell_type": "markdown",
   "metadata": {},
   "source": [
    "<img src=\"luke.png\" width=\"700\"><BR>"
   ]
  },
  {
   "cell_type": "markdown",
   "metadata": {},
   "source": [
    "이제 이 혼동행렬을 사용해서 모델의 성능에 대한 다양한 지표를 계산할 수 있다. \n",
    "\n",
    "예) 정확한 예측의 비율을 의미하는 정확도를 다음과 같이 계산할 수 있다 "
   ]
  },
  {
   "cell_type": "code",
   "execution_count": null,
   "metadata": {
    "collapsed": true
   },
   "outputs": [],
   "source": []
  },
  {
   "cell_type": "code",
   "execution_count": null,
   "metadata": {
    "collapsed": true
   },
   "outputs": [],
   "source": []
  },
  {
   "cell_type": "code",
   "execution_count": null,
   "metadata": {
    "collapsed": true
   },
   "outputs": [],
   "source": [
    "# correctness\n",
    "def accuracy(tp, fp, fn, tn):\n",
    "    correct = tp + tn\n",
    "    total = tp + fp + fn + tn\n",
    "    return correct / total"
   ]
  },
  {
   "cell_type": "markdown",
   "metadata": {},
   "source": []
  },
  {
   "cell_type": "code",
   "execution_count": null,
   "metadata": {
    "collapsed": true
   },
   "outputs": [],
   "source": []
  },
  {
   "cell_type": "code",
   "execution_count": 2,
   "metadata": {
    "collapsed": false
   },
   "outputs": [
    {
     "ename": "SyntaxError",
     "evalue": "'return' outside function (<ipython-input-2-347b5b368ec5>, line 49)",
     "output_type": "error",
     "traceback": [
      "\u001b[0;36m  File \u001b[0;32m\"<ipython-input-2-347b5b368ec5>\"\u001b[0;36m, line \u001b[0;32m49\u001b[0m\n\u001b[0;31m    return results\u001b[0m\n\u001b[0;31mSyntaxError\u001b[0m\u001b[0;31m:\u001b[0m 'return' outside function\n"
     ]
    }
   ],
   "source": [
    "\n",
    "\n",
    "def precision(tp, fp, fn, tn):\n",
    "    return tp / (tp + fp)\n",
    "\n",
    "def recall(tp, fp, fn, tn):\n",
    "    return tp / (tp + fn)\n",
    "\n",
    "def f1_score(tp, fp, fn, tn):\n",
    "    p = precision(tp, fp, fn, tn)\n",
    "    r = recall(tp, fp, fn, tn)\n",
    "\n",
    "    return 2 * p * r / (p + r)\n",
    "\n",
    "if __name__ == \"__main__\":\n",
    "\n",
    "    print(\"accuracy(70, 4930, 13930, 981070)\", accuracy(70, 4930, 13930, 981070))\n",
    "    print(\"precision(70, 4930, 13930, 981070)\", precision(70, 4930, 13930, 981070))\n",
    "    print(\"recall(70, 4930, 13930, 981070)\", recall(70, 4930, 13930, 981070))\n",
    "    print(\"f1_score(70, 4930, 13930, 981070)\", f1_score(70, 4930, 13930, 981070))\n",
    "    return results"
   ]
  },
  {
   "cell_type": "code",
   "execution_count": null,
   "metadata": {
    "collapsed": true
   },
   "outputs": [],
   "source": []
  },
  {
   "cell_type": "code",
   "execution_count": null,
   "metadata": {
    "collapsed": true
   },
   "outputs": [],
   "source": []
  }
 ],
 "metadata": {
  "anaconda-cloud": {},
  "kernelspec": {
   "display_name": "Python [Root]",
   "language": "python",
   "name": "Python [Root]"
  },
  "language_info": {
   "codemirror_mode": {
    "name": "ipython",
    "version": 2
   },
   "file_extension": ".py",
   "mimetype": "text/x-python",
   "name": "python",
   "nbconvert_exporter": "python",
   "pygments_lexer": "ipython2",
   "version": "2.7.12"
  }
 },
 "nbformat": 4,
 "nbformat_minor": 0
}
